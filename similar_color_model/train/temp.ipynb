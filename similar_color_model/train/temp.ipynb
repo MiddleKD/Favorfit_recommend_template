{
 "cells": [
  {
   "cell_type": "code",
   "execution_count": 312,
   "metadata": {},
   "outputs": [],
   "source": [
    "import torch\n",
    "import torch.nn as nn"
   ]
  },
  {
   "cell_type": "code",
   "execution_count": 2,
   "metadata": {},
   "outputs": [],
   "source": [
    "class MaskedConv2d(nn.Conv2d):\n",
    "    def __init__(self, in_channels, out_channels, kernel_size, stride=2, padding=1):\n",
    "        super().__init__(in_channels, out_channels, kernel_size, stride, padding)\n",
    "\n",
    "    def forward(self, input, mask):\n",
    "        masked_input = input * mask\n",
    "        return super().forward(masked_input)"
   ]
  },
  {
   "cell_type": "code",
   "execution_count": 3,
   "metadata": {},
   "outputs": [],
   "source": [
    "class Autoencoders(nn.Module):\n",
    "    def __init__(self, in_channels=3, out_channels=11, hidden_dims=[16, 32, 64, 128, 256], num_inter_layers = 5):\n",
    "        super().__init__()\n",
    "\n",
    "\n",
    "        # encoder\n",
    "        self.masked_conv = MaskedConv2d(in_channels, hidden_dims[0], kernel_size=3, padding=1, stride=2)\n",
    "        \n",
    "        modules = []\n",
    "        modules.append(\n",
    "            nn.Sequential(\n",
    "                nn.BatchNorm2d(hidden_dims[0]),\n",
    "                nn.LeakyReLU(),\n",
    "            )\n",
    "        )\n",
    "\n",
    "        en_in_channels = hidden_dims[0]\n",
    "        for h_dim in hidden_dims[1:]:\n",
    "            modules.append(\n",
    "                nn.Sequential(\n",
    "                    nn.Conv2d(en_in_channels, h_dim, kernel_size=3, padding=1, stride=2),\n",
    "                    nn.BatchNorm2d(h_dim),\n",
    "                    nn.LeakyReLU(),\n",
    "                ))\n",
    "            en_in_channels = h_dim\n",
    "        modules.append(nn.Sequential(nn.MaxPool2d(2,2)))    \n",
    "        self.encoder = nn.Sequential(*modules)\n",
    "\n",
    "\n",
    "        # intermediate\n",
    "        modules = [nn.Sequential(nn.Flatten())]\n",
    "        de_in_channels = hidden_dims[-1] * 2 * 2\n",
    "        for _ in range(num_inter_layers):\n",
    "            modules.append(\n",
    "                nn.Sequential(\n",
    "                    nn.Linear(de_in_channels, de_in_channels),\n",
    "                    nn.LayerNorm(de_in_channels),\n",
    "                    nn.LeakyReLU(),\n",
    "                ))\n",
    "        self.intermediate = nn.Sequential(*modules)\n",
    "\n",
    "\n",
    "        # decoder\n",
    "        modules = []\n",
    "        de_in_channels = hidden_dims[-1] * 2 * 2\n",
    "        \n",
    "        for h_dim in hidden_dims[::-1]:\n",
    "            modules.append(\n",
    "                nn.Sequential(\n",
    "                    nn.Linear(de_in_channels, h_dim),\n",
    "                    nn.LayerNorm(h_dim),\n",
    "                    nn.LeakyReLU(),\n",
    "                ))\n",
    "            de_in_channels = h_dim\n",
    "        self.decoder = nn.Sequential(*modules)\n",
    "\n",
    "\n",
    "        # fully connected\n",
    "        self.fc = nn.Linear(hidden_dims[0], out_channels)\n",
    "\n",
    "\n",
    "    def forward(self, img, mask):\n",
    "        masked_encoded = self.masked_conv(img, mask)\n",
    "        encoded = self.encoder(masked_encoded)\n",
    "        intermediate = self.intermediate(encoded)\n",
    "        decoded = self.decoder(intermediate)\n",
    "        result = self.fc(decoded)\n",
    "        return result"
   ]
  },
  {
   "cell_type": "code",
   "execution_count": 323,
   "metadata": {},
   "outputs": [
    {
     "data": {
      "text/plain": [
       "array([[175, 202, 223],\n",
       "       [177, 204, 225],\n",
       "       [178, 205, 225]])"
      ]
     },
     "execution_count": 323,
     "metadata": {},
     "output_type": "execute_result"
    }
   ],
   "source": [
    "import numpy as np\n",
    "np.unique(np.array([[178, 205, 225],[178, 205, 225],[177, 204, 225],[175, 202, 223]]), axis=0)"
   ]
  },
  {
   "cell_type": "code",
   "execution_count": 1,
   "metadata": {},
   "outputs": [],
   "source": [
    "from PIL import Image\n",
    "import numpy as np\n",
    "\n",
    "image = np.array(Image.open(\"./img/10_redan.jpg\").resize([128,128]))\n",
    "mask = np.array(Image.open(\"./img/10_redan_mask.jpg\").convert(\"L\").resize([128,128]))"
   ]
  },
  {
   "cell_type": "code",
   "execution_count": 319,
   "metadata": {},
   "outputs": [
    {
     "ename": "ModuleNotFoundError",
     "evalue": "No module named 'utils.rmbg_postprocess'; 'utils' is not a package",
     "output_type": "error",
     "traceback": [
      "\u001b[0;31m---------------------------------------------------------------------------\u001b[0m",
      "\u001b[0;31mModuleNotFoundError\u001b[0m                       Traceback (most recent call last)",
      "Cell \u001b[0;32mIn[319], line 1\u001b[0m\n\u001b[0;32m----> 1\u001b[0m \u001b[39mfrom\u001b[39;00m \u001b[39mutils\u001b[39;00m\u001b[39m.\u001b[39;00m\u001b[39mrmbg_postprocess\u001b[39;00m \u001b[39mimport\u001b[39;00m MaskPostProcessor\n\u001b[1;32m      3\u001b[0m postprocessor \u001b[39m=\u001b[39m MaskPostProcessor()\n\u001b[1;32m      4\u001b[0m \u001b[39mdef\u001b[39;00m \u001b[39mmask_post_process_pp\u001b[39m(mask):\n",
      "\u001b[0;31mModuleNotFoundError\u001b[0m: No module named 'utils.rmbg_postprocess'; 'utils' is not a package"
     ]
    }
   ],
   "source": [
    "from utils.rmbg_postprocess import MaskPostProcessor\n",
    "\n",
    "postprocessor = MaskPostProcessor()\n",
    "def mask_post_process_pp(mask):\n",
    "\n",
    "    mask_processed = postprocessor.apply_3_sigmoid_region_process(mask)\n",
    "    mask_processed = postprocessor.apply_erode(mask_processed, 3)\n",
    "\n",
    "    return mask_processed\n",
    "\n",
    "def mask_post_process_bg(mask):\n",
    "\n",
    "    mask_processed = postprocessor.apply_3_sigmoid_region_process(mask)\n",
    "    mask_processed = postprocessor.apply_dilate(mask_processed, 2)\n",
    "\n",
    "    return np.ones_like(mask_processed) * 255 - mask_processed"
   ]
  },
  {
   "cell_type": "code",
   "execution_count": 6,
   "metadata": {},
   "outputs": [],
   "source": [
    "model = Autoencoders(in_channels=3, out_channels=11).to(\"cuda\")\n",
    "new_mask = mask_post_process_pp(mask)"
   ]
  },
  {
   "cell_type": "code",
   "execution_count": 7,
   "metadata": {},
   "outputs": [],
   "source": [
    "image = torch.FloatTensor(image).permute(2, 0, 1).unsqueeze(0).to(\"cuda\")\n",
    "new_mask = torch.FloatTensor(new_mask).permute(2, 0, 1).unsqueeze(0).to(\"cuda\")"
   ]
  },
  {
   "cell_type": "code",
   "execution_count": 8,
   "metadata": {},
   "outputs": [
    {
     "name": "stdout",
     "output_type": "stream",
     "text": [
      "color:\n",
      " [[[-1.29232228e-01 -2.33498067e-01  1.79409981e-05]\n",
      "  [ 4.47841257e-01  1.18934095e-01 -3.51799041e-01]\n",
      "  [ 4.03703213e-01  1.03646100e-01 -5.08811772e-02]]]\n",
      "shadow:\n",
      " [[-0.37409154 -0.42643705]]\n"
     ]
    }
   ],
   "source": [
    "result = model(image, new_mask).detach().cpu()\n",
    "print(\"color:\\n\", result[:,:9].reshape([-1,3,3]).numpy())\n",
    "print(\"shadow:\\n\", result[:,9:].numpy())"
   ]
  },
  {
   "cell_type": "code",
   "execution_count": 9,
   "metadata": {},
   "outputs": [],
   "source": [
    "from PIL import Image\n",
    "from glob import glob\n",
    "\n",
    "root_path = \"/media/mlfavorfit/sda/product_image_and_mask/*/*\"\n",
    "fns = glob(root_path)\n",
    "fns = sorted(fns)"
   ]
  },
  {
   "cell_type": "code",
   "execution_count": 10,
   "metadata": {},
   "outputs": [],
   "source": [
    "img_mask_pairs = list(zip([fn for idx, fn in enumerate(fns) if idx % 2 == 0], [fn for idx, fn in enumerate(fns) if idx % 2 == 1]))[:50000]"
   ]
  },
  {
   "cell_type": "code",
   "execution_count": 11,
   "metadata": {},
   "outputs": [],
   "source": [
    "from utils.colors_utils import find_color_type_fixed\n",
    "\n",
    "\n",
    "def make_label(img_mask_pair):\n",
    "    img_path, mask_path = img_mask_pair\n",
    "    img = np.array(Image.open(img_path).resize([128, 128]))\n",
    "    mask = np.array(Image.open(mask_path).resize([128, 128]))\n",
    "    bg_mask = mask_post_process_bg(mask)\n",
    "\n",
    "    cl_color = find_color_type_fixed(img, bg_mask)\n",
    "    return img_path, cl_color"
   ]
  },
  {
   "cell_type": "code",
   "execution_count": 73,
   "metadata": {},
   "outputs": [],
   "source": [
    "from PIL import Image\n",
    "\n",
    "image = Image.open(\"./img/10_redan.jpg\")\n",
    "mask = Image.open(\"./img/10_redan_mask.jpg\")"
   ]
  },
  {
   "cell_type": "code",
   "execution_count": 74,
   "metadata": {},
   "outputs": [],
   "source": [
    "import numpy as np\n",
    "\n",
    "img_np = np.array(image)\n",
    "mask_np = np.array(mask)"
   ]
  },
  {
   "cell_type": "code",
   "execution_count": 75,
   "metadata": {},
   "outputs": [
    {
     "name": "stderr",
     "output_type": "stream",
     "text": [
      "\n",
      "(eog:297524): EOG-CRITICAL **: 21:44:54.002: eog_image_get_file: assertion 'EOG_IS_IMAGE (img)' failed\n",
      "\n",
      "(eog:297524): GLib-GIO-CRITICAL **: 21:44:54.002: g_file_equal: assertion 'G_IS_FILE (file1)' failed\n"
     ]
    }
   ],
   "source": [
    "from shadow_maker import ShadowMaker\n",
    "\n",
    "shadow_maker = ShadowMaker()\n",
    "mask_pp = mask_post_process_pp(mask_np)\n",
    "\n",
    "Image.fromarray(mask_np).show()\n",
    "crop_mask = shadow_maker.get_crop_mask(mask_np)\n",
    "Image.fromarray(crop_mask).show()"
   ]
  },
  {
   "cell_type": "code",
   "execution_count": null,
   "metadata": {},
   "outputs": [],
   "source": [
    "img_np_plus = img_np + 1\n",
    "np.clip(img_np + 1, 1, )"
   ]
  },
  {
   "cell_type": "code",
   "execution_count": 196,
   "metadata": {},
   "outputs": [],
   "source": [
    "from torchvision import transforms\n",
    "from rmbg_postprocess import MaskPostProcessor\n",
    "\n",
    "mask_post_processor = MaskPostProcessor()\n",
    "\n",
    "class PlusOneTransformer:\n",
    "\n",
    "    def __init__(self, height=128, width=128, mean=[0.485, 0.456, 0.406], std=[0.229, 0.224, 0.225]):\n",
    "\n",
    "        self.resize_normalize = \\\n",
    "            transforms.Compose([\n",
    "                transforms.ToTensor(),\n",
    "                transforms.Resize((height, width)),\n",
    "                transforms.Normalize(mean=mean, std=std)\n",
    "            ])\n",
    "        \n",
    "    def make_mask(self, mask):\n",
    "        mask_pp = mask_post_process_pp(mask)\n",
    "        bin_mask = np.where(mask_pp < 127, 0, 1)\n",
    "        return bin_mask\n",
    "    \n",
    "    def get_crop_image(self, image):\n",
    "\n",
    "        y, x = np.where(image[:,:,0] != 0)\n",
    "\n",
    "        # 바운딩 박스 계산\n",
    "        x_min, x_max = np.min(x), np.max(x)\n",
    "        y_min, y_max = np.min(y), np.max(y)\n",
    "        \n",
    "        # 이미지 크롭\n",
    "        cropped_image = image[y_min:y_max+1, x_min:x_max+1,:]\n",
    "\n",
    "        return cropped_image.astype(np.uint8)\n",
    "\n",
    "    def __call__(self, image, mask):\n",
    "        \n",
    "        image = np.clip(image + 1, 1, 255)\n",
    "        mask = self.make_mask(mask)\n",
    "\n",
    "        masked_crop_image = self.get_crop_image(image * mask)\n",
    "        masked_crop_image = self.resize_normalize(masked_crop_image)\n",
    "        \n",
    "        return masked_crop_image"
   ]
  },
  {
   "cell_type": "code",
   "execution_count": 197,
   "metadata": {},
   "outputs": [],
   "source": [
    "transformer = PlusOneTransformer()"
   ]
  },
  {
   "cell_type": "code",
   "execution_count": 198,
   "metadata": {},
   "outputs": [],
   "source": [
    "transformer(img_np, mask_np)"
   ]
  },
  {
   "cell_type": "code",
   "execution_count": 328,
   "metadata": {},
   "outputs": [],
   "source": [
    "import os\n",
    "\n",
    "temp = \"/media/mlfavorfit/sda/template_recommend_dataset/train/airconditioning/3_grays.jpg\""
   ]
  },
  {
   "cell_type": "code",
   "execution_count": 334,
   "metadata": {},
   "outputs": [
    {
     "data": {
      "text/plain": [
       "'/media/mlfavorfit/sda/template_recommend_dataset/train/airconditioning'"
      ]
     },
     "execution_count": 334,
     "metadata": {},
     "output_type": "execute_result"
    }
   ],
   "source": [
    "os.path.dirname(temp)"
   ]
  },
  {
   "cell_type": "code",
   "execution_count": 335,
   "metadata": {},
   "outputs": [
    {
     "data": {
      "text/plain": [
       "'3_grays.jpg'"
      ]
     },
     "execution_count": 335,
     "metadata": {},
     "output_type": "execute_result"
    }
   ],
   "source": [
    "os.path.basename(temp)"
   ]
  },
  {
   "cell_type": "code",
   "execution_count": 337,
   "metadata": {},
   "outputs": [],
   "source": [
    "splited_path = temp.split(\"/train/\")"
   ]
  },
  {
   "cell_type": "code",
   "execution_count": 338,
   "metadata": {},
   "outputs": [],
   "source": [
    "prefix = splited_path[0]\n",
    "suffix = splited_path[1]"
   ]
  },
  {
   "cell_type": "code",
   "execution_count": 342,
   "metadata": {},
   "outputs": [],
   "source": [
    "splited_path = temp.split(\"/train/\")\n",
    "prefix = splited_path[0]\n",
    "suffix = splited_path[1]\n",
    "target_path = os.path.join(prefix, \"temp\", suffix)"
   ]
  },
  {
   "cell_type": "code",
   "execution_count": 21,
   "metadata": {},
   "outputs": [
    {
     "data": {
      "image/png": "[encoded data removed]",
      "text/plain": [
       "<Figure size 800x600 with 1 Axes>"
      ]
     },
     "metadata": {},
     "output_type": "display_data"
    }
   ],
   "source": [
    "import numpy as np\n",
    "import matplotlib.pyplot as plt\n",
    "\n",
    "# 0.01에서 10까지의 값을 생성합니다. 0은 로그에 정의되지 않으므로 포함시키지 않습니다.\n",
    "x = np.linspace(0.01, 5, 100)\n",
    "y = 20/np.exp(5*x)+0.00001\n",
    "\n",
    "plt.figure(figsize=(8, 6))\n",
    "plt.plot(x, y, label='ln(x)')\n",
    "\n",
    "plt.title('Natural Logarithm Function')\n",
    "plt.xlabel('x')\n",
    "plt.ylabel('ln(x)')\n",
    "plt.legend()\n",
    "plt.grid(True)\n",
    "plt.show()\n"
   ]
  },
  {
   "cell_type": "code",
   "execution_count": 22,
   "metadata": {},
   "outputs": [
    {
     "data": {
      "text/plain": [
       "19.02459849001428"
      ]
     },
     "execution_count": 22,
     "metadata": {},
     "output_type": "execute_result"
    }
   ],
   "source": [
    "20/np.exp(5*0.01)+0.00001"
   ]
  },
  {
   "cell_type": "code",
   "execution_count": 210,
   "metadata": {},
   "outputs": [],
   "source": [
    "from glob import glob\n",
    "from PIL import Image\n",
    "import cv2\n",
    "from tqdm import tqdm"
   ]
  },
  {
   "cell_type": "code",
   "execution_count": 232,
   "metadata": {},
   "outputs": [],
   "source": [
    "fns = glob(\"/media/mlfavorfit/sda/template_recommend_dataset/train_origin/*/*\")\n",
    "fns = [cur for idx, cur in enumerate(sorted(fns)) if idx % 2 == 0]"
   ]
  },
  {
   "cell_type": "code",
   "execution_count": 233,
   "metadata": {},
   "outputs": [],
   "source": [
    "means = np.empty((0,3))\n",
    "stds = np.empty((0,3))\n",
    "selected_fns = np.random.choice(fns, 1000)"
   ]
  },
  {
   "cell_type": "code",
   "execution_count": 234,
   "metadata": {},
   "outputs": [
    {
     "name": "stderr",
     "output_type": "stream",
     "text": [
      "  8%|▊         | 82/1000 [01:26<11:59,  1.28it/s]/home/mlfavorfit/anaconda3/envs/kjg_ver39/lib/python3.9/site-packages/PIL/Image.py:3157: DecompressionBombWarning: Image size (94089600 pixels) exceeds limit of 89478485 pixels, could be decompression bomb DOS attack.\n",
      "  warnings.warn(\n",
      " 74%|███████▍  | 744/1000 [13:03<05:43,  1.34s/it]/home/mlfavorfit/anaconda3/envs/kjg_ver39/lib/python3.9/site-packages/PIL/Image.py:3157: DecompressionBombWarning: Image size (96000000 pixels) exceeds limit of 89478485 pixels, could be decompression bomb DOS attack.\n",
      "  warnings.warn(\n",
      " 90%|█████████ | 904/1000 [15:55<01:52,  1.17s/it]/home/mlfavorfit/anaconda3/envs/kjg_ver39/lib/python3.9/site-packages/PIL/Image.py:3157: DecompressionBombWarning: Image size (95373558 pixels) exceeds limit of 89478485 pixels, could be decompression bomb DOS attack.\n",
      "  warnings.warn(\n",
      "100%|██████████| 1000/1000 [17:44<00:00,  1.06s/it]\n"
     ]
    }
   ],
   "source": [
    "for fn in tqdm(selected_fns):\n",
    "    img = np.array(Image.open(fn), dtype=np.uint8)\n",
    "\n",
    "    hsv_img = cv2.cvtColor(img, cv2.COLOR_RGB2HSV)\n",
    "    hsv_img_norm = hsv_img / np.array([179, 255, 255])\n",
    "\n",
    "    flat_hsv = hsv_img_norm.reshape(-1,3)\n",
    "\n",
    "    mean = np.mean(flat_hsv, axis=0)\n",
    "    std = np.std(flat_hsv, axis=0)\n",
    "    \n",
    "    means = np.append(means, [mean], axis=0)\n",
    "    stds = np.append(stds, [std], axis=0)"
   ]
  },
  {
   "cell_type": "code",
   "execution_count": 238,
   "metadata": {},
   "outputs": [
    {
     "data": {
      "text/plain": [
       "array([0.314 , 0.3064, 0.553 ], dtype=float16)"
      ]
     },
     "execution_count": 238,
     "metadata": {},
     "output_type": "execute_result"
    }
   ],
   "source": [
    "np.mean(means, axis=0).astype(np.float16)"
   ]
  },
  {
   "cell_type": "code",
   "execution_count": 239,
   "metadata": {},
   "outputs": [
    {
     "data": {
      "text/plain": [
       "array([0.2173, 0.2056, 0.2211], dtype=float16)"
      ]
     },
     "execution_count": 239,
     "metadata": {},
     "output_type": "execute_result"
    }
   ],
   "source": [
    "np.mean(stds, axis=0).astype(np.float16)"
   ]
  },
  {
   "cell_type": "code",
   "execution_count": 269,
   "metadata": {},
   "outputs": [
    {
     "data": {
      "text/plain": [
       "(2, 2, 3)"
      ]
     },
     "execution_count": 269,
     "metadata": {},
     "output_type": "execute_result"
    }
   ],
   "source": [
    "temp = np.array([\n",
    "                    [\n",
    "                        [0,1,2],\n",
    "                        [0,10,20]\n",
    "                    ], \n",
    "                    [\n",
    "                        [1,2,3],\n",
    "                        [100,50,80]\n",
    "                    ]\n",
    "                ]\n",
    "            )\n",
    "temp.shape"
   ]
  },
  {
   "cell_type": "code",
   "execution_count": 257,
   "metadata": {},
   "outputs": [
    {
     "data": {
      "text/plain": [
       "array([[ 0.5,  1.5,  2.5],\n",
       "       [50. , 30. , 50. ]])"
      ]
     },
     "execution_count": 257,
     "metadata": {},
     "output_type": "execute_result"
    }
   ],
   "source": [
    "np.mean(temp, axis=0)"
   ]
  },
  {
   "cell_type": "code",
   "execution_count": null,
   "metadata": {},
   "outputs": [],
   "source": [
    "평균 = [0.314 , 0.3064, 0.553 ]\n",
    "\n",
    "분산 = [0.2173, 0.2056, 0.2211]"
   ]
  },
  {
   "cell_type": "code",
   "execution_count": 1,
   "metadata": {},
   "outputs": [],
   "source": [
    "import torch\n",
    "\n",
    "t = torch.randn(8,4,4)"
   ]
  },
  {
   "cell_type": "code",
   "execution_count": 10,
   "metadata": {},
   "outputs": [
    {
     "data": {
      "text/plain": [
       "torch.Size([8, 1, 4])"
      ]
     },
     "execution_count": 10,
     "metadata": {},
     "output_type": "execute_result"
    }
   ],
   "source": [
    "t[:,0,:].unsqueeze(1).shape"
   ]
  },
  {
   "cell_type": "code",
   "execution_count": 3,
   "metadata": {},
   "outputs": [],
   "source": [
    "import json\n",
    "\n",
    "with open(\"/media/mlfavorfit/sda/template_recommend_dataset/cluster_features_split/train_datas.json\", mode=\"r\") as f:\n",
    "    train_1 = list(json.load(f).values())\n",
    "with open(\"/media/mlfavorfit/sda/template_recommend_dataset/cluster_features_split/val_datas.json\", mode=\"r\") as f:\n",
    "    val_1 = list(json.load(f).values())\n",
    "with open(\"/media/mlfavorfit/sda/template_recommend_dataset/cluster_features_split/train_labels.json\", mode=\"r\") as f:\n",
    "    train_2 = list(json.load(f).values())\n",
    "with open(\"/media/mlfavorfit/sda/template_recommend_dataset/cluster_features_split/val_labels.json\", mode=\"r\") as f:\n",
    "    val_2 = list(json.load(f).values())"
   ]
  },
  {
   "cell_type": "code",
   "execution_count": 179,
   "metadata": {},
   "outputs": [],
   "source": [
    "total = train_1 + val_1 + train_2 + val_2"
   ]
  },
  {
   "cell_type": "code",
   "execution_count": 12,
   "metadata": {},
   "outputs": [],
   "source": [
    "import torch\n",
    "import torch.nn as nn\n",
    "from tqdm import tqdm\n",
    "import numpy as np\n",
    "from torch.utils.data import Dataset\n",
    "from torch.utils.data import DataLoader"
   ]
  },
  {
   "cell_type": "code",
   "execution_count": 54,
   "metadata": {},
   "outputs": [],
   "source": [
    "class ColorIterDataset(Dataset):\n",
    "    def __init__(self, datas):\n",
    "        self.datas = []\n",
    "        for data in datas:\n",
    "            try:\n",
    "                colors = np.array(data[0])/255\n",
    "                percentage = np.array(data[1]).reshape(-1,1)\n",
    "                feature = np.concatenate([colors, percentage], axis=1)\n",
    "                self.datas.append(feature)\n",
    "            except:\n",
    "                pass\n",
    "\n",
    "        print(f\"Dataset -> num_of_data:{len(self.datas)}\")\n",
    "    \n",
    "    def __getitem__(self, idx):\n",
    "        feature = self.datas[idx]\n",
    "        return torch.FloatTensor(feature.flatten()), torch.FloatTensor(feature.flatten())\n",
    "\n",
    "    def __len__(self):\n",
    "        return len(self.datas)\n",
    "\n",
    "\n",
    "class ColorIterDataset(Dataset):\n",
    "    def __init__(self, path):\n",
    "        fns = glob(os.path.join(path, \"*\", \"*\"))\n",
    "    \n",
    "        self.datas = [np.array(Image.open(fn).convert(\"RGB\")) for fn in fns]\n",
    "    def get_colors(self, img_arr):\n",
    "        img_arr[np.where(img_arr != [0,0,0])]\n",
    "    def __getitem__(self, idx):\n",
    "\n",
    "        feature = self.datas[idx]\n",
    "        return torch.FloatTensor(feature.flatten()), torch.FloatTensor(feature.flatten())\n",
    "\n",
    "    def __len__(self):\n",
    "        return len(self.datas)\n"
   ]
  },
  {
   "cell_type": "code",
   "execution_count": 55,
   "metadata": {},
   "outputs": [],
   "source": [
    "from torch.nn.functional import interpolate\n",
    "import torch\n",
    "def extract_color_pallet(img, mask, size=256):\n",
    "    img_masked = np.expand_dims(img[np.where(mask>127)].reshape(-1,3), axis=0)\n",
    "    conpresse_img = interpolate(torch.FloatTensor(img_masked).unsqueeze(0), size=[size,3], mode=\"bilinear\")\n",
    "\n",
    "    return conpresse_img.squeeze().numpy()\n"
   ]
  },
  {
   "cell_type": "code",
   "execution_count": 15,
   "metadata": {},
   "outputs": [
    {
     "ename": "NameError",
     "evalue": "name 'Image' is not defined",
     "output_type": "error",
     "traceback": [
      "\u001b[0;31m---------------------------------------------------------------------------\u001b[0m",
      "\u001b[0;31mNameError\u001b[0m                                 Traceback (most recent call last)",
      "Cell \u001b[0;32mIn[15], line 3\u001b[0m\n\u001b[1;32m      1\u001b[0m \u001b[39mimport\u001b[39;00m \u001b[39mnumpy\u001b[39;00m \u001b[39mas\u001b[39;00m \u001b[39mnp\u001b[39;00m\n\u001b[1;32m      2\u001b[0m img_path, mask_path \u001b[39m=\u001b[39m \u001b[39m\"\u001b[39m\u001b[39m/media/mlfavorfit/sda/template_recommend_dataset/train_origin/alcohol/62_afeww.jpg\u001b[39m\u001b[39m\"\u001b[39m, \u001b[39m\"\u001b[39m\u001b[39m/media/mlfavorfit/sda/template_recommend_dataset/train_origin/alcohol/62_afeww_mask.jpg\u001b[39m\u001b[39m\"\u001b[39m\n\u001b[0;32m----> 3\u001b[0m img \u001b[39m=\u001b[39m np\u001b[39m.\u001b[39marray(Image\u001b[39m.\u001b[39mopen(img_path)\u001b[39m.\u001b[39mresize([\u001b[39m128\u001b[39m, \u001b[39m128\u001b[39m]))\n\u001b[1;32m      4\u001b[0m mask \u001b[39m=\u001b[39m np\u001b[39m.\u001b[39marray(Image\u001b[39m.\u001b[39mopen(mask_path)\u001b[39m.\u001b[39mresize([\u001b[39m128\u001b[39m, \u001b[39m128\u001b[39m]))\n",
      "\u001b[0;31mNameError\u001b[0m: name 'Image' is not defined"
     ]
    }
   ],
   "source": [
    "import numpy as np\n",
    "img_path, mask_path = \"/media/mlfavorfit/sda/template_recommend_dataset/train_origin/alcohol/62_afeww.jpg\", \"/media/mlfavorfit/sda/template_recommend_dataset/train_origin/alcohol/62_afeww_mask.jpg\"\n",
    "img = np.array(Image.open(img_path).resize([128, 128]))\n",
    "mask = np.array(Image.open(mask_path).resize([128, 128]))"
   ]
  },
  {
   "cell_type": "code",
   "execution_count": 9,
   "metadata": {},
   "outputs": [
    {
     "data": {
      "text/plain": [
       "49152"
      ]
     },
     "execution_count": 9,
     "metadata": {},
     "output_type": "execute_result"
    }
   ],
   "source": [
    "len(img.flatten())"
   ]
  },
  {
   "cell_type": "code",
   "execution_count": 10,
   "metadata": {},
   "outputs": [],
   "source": [
    "from utils.colors_utils import sort_colors"
   ]
  },
  {
   "cell_type": "code",
   "execution_count": 12,
   "metadata": {},
   "outputs": [
    {
     "data": {
      "text/plain": [
       "[[181.65625, 104.0, 27.21875],\n",
       " [179.890625, 96.921875, 23.984375],\n",
       " [179.734375, 99.859375, 25.4375],\n",
       " [179.390625, 176.296875, 111.96875],\n",
       " [178.140625, 101.265625, 24.0],\n",
       " [176.875, 104.03125, 26.0],\n",
       " [175.796875, 133.71875, 68.625],\n",
       " [174.25, 169.65625, 96.25],\n",
       " [170.6875, 152.703125, 98.625],\n",
       " [168.9375, 121.53125, 24.0625],\n",
       " [165.796875, 104.96875, 15.1875],\n",
       " [159.53125, 150.0, 71.53125],\n",
       " [159.21875, 152.21875, 74.8125],\n",
       " [158.953125, 106.0, 32.640625],\n",
       " [158.0, 149.0, 71.078125],\n",
       " [157.109375, 149.53125, 76.6875],\n",
       " [156.0, 147.0, 70.859375],\n",
       " [153.984375, 125.84375, 29.125],\n",
       " [153.421875, 146.0, 67.578125],\n",
       " [152.765625, 140.203125, 66.53125],\n",
       " [151.265625, 144.53125, 63.734375],\n",
       " [150.84375, 82.234375, 23.65625],\n",
       " [150.578125, 87.0625, 9.5625],\n",
       " [149.796875, 142.59375, 63.59375],\n",
       " [149.015625, 141.703125, 56.703125],\n",
       " [147.609375, 137.484375, 51.828125],\n",
       " [143.71875, 135.265625, 50.359375],\n",
       " [142.65625, 33.3125, 1.546875],\n",
       " [141.578125, 103.0, 20.0],\n",
       " [139.96875, 23.828125, 2.65625],\n",
       " [138.515625, 130.484375, 52.0],\n",
       " [138.03125, 110.578125, 61.484375],\n",
       " [137.328125, 109.296875, 24.453125],\n",
       " [136.96875, 129.953125, 56.953125],\n",
       " [136.84375, 129.84375, 42.765625],\n",
       " [136.3125, 92.3125, 1.0],\n",
       " [136.03125, 130.03125, 44.515625],\n",
       " [136.0, 130.0, 44.0],\n",
       " [135.046875, 11.140625, 1.0],\n",
       " [134.84375, 93.421875, 1.0],\n",
       " [134.703125, 128.40625, 42.40625],\n",
       " [133.640625, 127.0, 41.640625],\n",
       " [133.15625, 127.578125, 41.578125],\n",
       " [133.03125, 122.703125, 58.71875],\n",
       " [132.9375, 6.421875, 1.421875],\n",
       " [132.875, 99.515625, 45.953125],\n",
       " [132.578125, 109.40625, 30.5625],\n",
       " [132.25, 115.1875, 41.1875],\n",
       " [131.6875, 56.5, 28.8125],\n",
       " [131.234375, 89.0625, 1.859375],\n",
       " [131.109375, 120.578125, 56.578125],\n",
       " [131.03125, 6.359375, 1.359375],\n",
       " [131.0, 92.96875, 4.0],\n",
       " [130.875, 89.109375, 2.46875],\n",
       " [130.765625, 115.859375, 47.84375],\n",
       " [130.578125, 90.15625, 0.578125],\n",
       " [130.328125, 107.796875, 69.1875],\n",
       " [129.796875, 90.53125, 5.46875],\n",
       " [129.78125, 109.453125, 49.234375],\n",
       " [129.515625, 83.703125, 0.296875],\n",
       " [129.4375, 87.109375, 1.890625],\n",
       " [128.828125, 53.953125, 9.65625],\n",
       " [128.453125, 100.875, 36.046875],\n",
       " [128.375, 5.078125, 0.078125],\n",
       " [127.984375, 6.015625, 1.0],\n",
       " [127.671875, 113.34375, 50.359375],\n",
       " [127.484375, 89.0, 1.484375],\n",
       " [127.390625, 101.59375, 51.0],\n",
       " [126.90625, 85.90625, 1.484375],\n",
       " [126.078125, 83.0, 1.0],\n",
       " [126.0625, 104.59375, 43.140625],\n",
       " [125.984375, 83.640625, 0.0],\n",
       " [125.859375, 107.0, 34.953125],\n",
       " [125.78125, 84.53125, 29.015625],\n",
       " [125.734375, 112.15625, 39.15625],\n",
       " [125.734375, 3.0, 3.703125],\n",
       " [125.53125, 115.8125, 46.828125],\n",
       " [125.0, 109.640625, 38.09375],\n",
       " [124.671875, 86.71875, 12.078125],\n",
       " [124.671875, 84.015625, 1.0],\n",
       " [124.5625, 106.921875, 34.890625],\n",
       " [124.078125, 112.078125, 38.078125],\n",
       " [124.03125, 109.375, 36.203125],\n",
       " [123.984375, 27.3125, 7.984375],\n",
       " [122.953125, 106.515625, 35.046875],\n",
       " [122.921875, 87.453125, 38.078125],\n",
       " [122.484375, 107.765625, 41.75],\n",
       " [122.484375, 11.515625, 2.515625],\n",
       " [122.078125, 16.078125, 4.359375],\n",
       " [121.84375, 105.0, 29.84375],\n",
       " [121.765625, 112.46875, 37.421875],\n",
       " [121.5625, 98.796875, 39.859375],\n",
       " [121.015625, 81.96875, 1.984375],\n",
       " [120.703125, 77.171875, 0.46875],\n",
       " [120.25, 96.296875, 61.25],\n",
       " [120.234375, 96.765625, 40.03125],\n",
       " [120.125, 13.65625, 3.328125],\n",
       " [120.109375, 110.109375, 30.40625],\n",
       " [119.25, 110.25, 38.828125],\n",
       " [119.140625, 54.859375, 16.25],\n",
       " [118.90625, 91.59375, 30.34375],\n",
       " [117.328125, 84.234375, 29.390625],\n",
       " [117.171875, 101.296875, 40.640625],\n",
       " [116.578125, 85.984375, 15.328125],\n",
       " [116.109375, 97.890625, 26.0],\n",
       " [116.09375, 94.609375, 37.515625],\n",
       " [116.03125, 93.203125, 57.640625],\n",
       " [116.0, 4.5625, 1.78125],\n",
       " [116.0, 3.234375, 2.0],\n",
       " [115.984375, 102.1875, 32.921875],\n",
       " [115.703125, 11.40625, 9.40625],\n",
       " [115.6875, 72.453125, 2.0],\n",
       " [115.0625, 54.0625, 37.375],\n",
       " [114.84375, 67.84375, 1.0],\n",
       " [114.015625, 101.03125, 30.0625],\n",
       " [113.78125, 97.296875, 31.84375],\n",
       " [113.296875, 106.0625, 54.03125],\n",
       " [113.078125, 64.953125, 7.234375],\n",
       " [112.203125, 4.203125, 1.0],\n",
       " [112.140625, 24.6875, 6.46875],\n",
       " [111.390625, 2.78125, 1.0],\n",
       " [110.9375, 40.828125, 19.09375],\n",
       " [110.546875, 90.078125, 38.15625],\n",
       " [109.375, 3.0, 0.453125],\n",
       " [109.296875, 31.234375, 4.296875],\n",
       " [108.765625, 78.875, 23.296875],\n",
       " [108.734375, 75.640625, 16.703125],\n",
       " [108.375, 3.421875, 1.0],\n",
       " [107.9375, 4.0, 0.0],\n",
       " [107.921875, 67.6875, 16.84375],\n",
       " [107.875, 67.796875, 1.0],\n",
       " [107.28125, 78.140625, 45.875],\n",
       " [107.140625, 77.140625, 22.484375],\n",
       " [106.328125, 77.515625, 26.890625],\n",
       " [105.015625, 72.296875, 27.859375],\n",
       " [104.78125, 1.40625, 1.0],\n",
       " [104.328125, 2.328125, 1.0],\n",
       " [103.71875, 75.65625, 23.890625],\n",
       " [103.546875, 2.453125, 1.0],\n",
       " [103.359375, 3.0, 0.453125],\n",
       " [103.0, 82.6875, 30.53125],\n",
       " [102.8125, 40.765625, 1.796875],\n",
       " [102.15625, 28.140625, 17.5],\n",
       " [101.984375, 12.71875, 3.8125],\n",
       " [101.96875, 84.015625, 34.15625],\n",
       " [101.84375, 33.125, 1.140625],\n",
       " [101.8125, 58.140625, 1.0],\n",
       " [101.75, 86.765625, 29.640625],\n",
       " [101.6875, 78.890625, 13.09375],\n",
       " [101.609375, 47.5, 28.75],\n",
       " [101.203125, 75.984375, 23.796875],\n",
       " [100.796875, 60.71875, 36.8125],\n",
       " [100.53125, 62.171875, 25.8125],\n",
       " [100.46875, 74.640625, 33.453125],\n",
       " [99.453125, 80.234375, 26.921875],\n",
       " [98.71875, 78.71875, 29.859375],\n",
       " [98.21875, 68.234375, 23.140625],\n",
       " [96.78125, 3.0, 1.0],\n",
       " [96.359375, 85.5625, 24.796875],\n",
       " [96.15625, 33.703125, 2.96875],\n",
       " [96.109375, 57.375, 19.84375],\n",
       " [95.8125, 87.703125, 42.609375],\n",
       " [95.46875, 3.0, 1.921875],\n",
       " [95.296875, 4.71875, 2.0],\n",
       " [95.109375, 59.671875, 29.375],\n",
       " [93.15625, 71.796875, 22.453125],\n",
       " [92.859375, 2.0, 1.0],\n",
       " [92.5625, 73.171875, 20.171875],\n",
       " [92.0, 3.0, 1.0],\n",
       " [91.703125, 56.75, 15.09375],\n",
       " [90.765625, 54.328125, 4.734375],\n",
       " [89.6875, 3.0, 1.0],\n",
       " [89.625, 49.28125, 16.96875],\n",
       " [89.5, 71.5, 16.75],\n",
       " [88.421875, 73.15625, 30.296875],\n",
       " [88.328125, 40.046875, 7.359375],\n",
       " [85.9375, 67.296875, 28.921875],\n",
       " [85.59375, 1.265625, 1.265625],\n",
       " [84.421875, 59.4375, 17.578125],\n",
       " [83.984375, 44.15625, 3.828125],\n",
       " [83.875, 3.9375, 3.671875],\n",
       " [82.0, 0.015625, 0.0],\n",
       " [81.140625, 1.0, 1.0],\n",
       " [80.9375, 1.078125, 1.078125],\n",
       " [79.40625, 2.171875, 2.171875],\n",
       " [79.0625, 63.578125, 15.0625],\n",
       " [78.640625, 62.171875, 12.046875],\n",
       " [77.40625, 62.0, 15.703125],\n",
       " [77.171875, 48.703125, 1.1875],\n",
       " [76.859375, 65.3125, 29.796875],\n",
       " [76.65625, 55.4375, 17.21875],\n",
       " [76.515625, 61.34375, 16.78125],\n",
       " [76.109375, 2.0, 1.640625],\n",
       " [76.015625, 3.8125, 0.953125],\n",
       " [75.046875, 33.09375, 1.0],\n",
       " [74.953125, 54.8125, 11.90625],\n",
       " [74.390625, 66.171875, 13.359375],\n",
       " [73.953125, 45.609375, 8.0],\n",
       " [73.453125, 50.03125, 11.21875],\n",
       " [72.21875, 37.421875, 16.8125],\n",
       " [72.046875, 51.09375, 14.1875],\n",
       " [71.96875, 51.9375, 14.96875],\n",
       " [71.921875, 34.0, 4.796875],\n",
       " [70.703125, 48.421875, 7.0],\n",
       " [70.3125, 41.625, 21.15625],\n",
       " [70.21875, 1.0, 1.0],\n",
       " [68.21875, 40.21875, 5.40625],\n",
       " [66.296875, 47.0625, 11.296875],\n",
       " [65.546875, 57.5, 22.625],\n",
       " [64.59375, 37.421875, 12.296875],\n",
       " [64.515625, 7.0, 5.0],\n",
       " [63.390625, 1.0, 1.515625],\n",
       " [62.765625, 29.734375, 11.578125],\n",
       " [61.734375, 41.421875, 12.6875],\n",
       " [61.453125, 41.78125, 4.078125],\n",
       " [61.109375, 46.3125, 5.796875],\n",
       " [61.078125, 44.078125, 15.453125],\n",
       " [59.828125, 41.109375, 0.109375],\n",
       " [58.90625, 34.90625, 1.359375],\n",
       " [58.078125, 20.6875, 4.9375],\n",
       " [57.625, 49.453125, 16.78125],\n",
       " [57.234375, 38.0, 2.078125],\n",
       " [57.15625, 42.15625, 4.609375],\n",
       " [56.171875, 0.015625, 0.015625],\n",
       " [55.515625, 16.265625, 1.234375],\n",
       " [55.328125, 17.21875, 1.40625],\n",
       " [54.953125, 35.734375, 1.0],\n",
       " [52.0, 36.0, 1.046875],\n",
       " [50.890625, 8.875, 3.953125],\n",
       " [50.6875, 32.5, 2.0],\n",
       " [50.671875, 27.25, 20.03125],\n",
       " [49.3125, 34.96875, 1.671875],\n",
       " [46.65625, 25.796875, 1.546875],\n",
       " [46.0, 1.578125, 1.0],\n",
       " [45.84375, 24.078125, 1.078125],\n",
       " [43.109375, 1.640625, 1.0],\n",
       " [42.96875, 2.0, 1.484375],\n",
       " [41.03125, 25.984375, 0.984375],\n",
       " [40.5625, 24.5625, 1.0],\n",
       " [40.046875, 24.046875, 0.0],\n",
       " [38.15625, 1.0, 1.078125],\n",
       " [36.125, 13.015625, 5.34375],\n",
       " [34.625, 2.0, 1.765625],\n",
       " [34.46875, 6.171875, 6.640625],\n",
       " [34.0, 0.0, 0.0],\n",
       " [31.6875, 14.46875, 5.390625],\n",
       " [30.65625, 14.640625, 7.6875],\n",
       " [29.71875, 1.203125, 0.6875],\n",
       " [28.1875, 14.65625, 13.359375],\n",
       " [27.921875, 13.40625, 10.40625],\n",
       " [23.0, 2.0, 1.0],\n",
       " [19.921875, 3.015625, 1.984375],\n",
       " [17.53125, 2.890625, 1.0],\n",
       " [14.203125, 6.53125, 3.734375],\n",
       " [13.578125, 3.140625, 1.140625],\n",
       " [10.484375, 7.0, 3.0]]"
      ]
     },
     "execution_count": 12,
     "metadata": {},
     "output_type": "execute_result"
    }
   ],
   "source": [
    "sort_colors(extract_color_pallet(img, mask).tolist(), reverse=True)"
   ]
  },
  {
   "cell_type": "code",
   "execution_count": 227,
   "metadata": {},
   "outputs": [],
   "source": [
    "test = torch.FloatTensor([[0,0,0],[127,127,127],[255,255,255]]).unsqueeze(0)"
   ]
  },
  {
   "cell_type": "code",
   "execution_count": 228,
   "metadata": {},
   "outputs": [
    {
     "data": {
      "text/plain": [
       "torch.Size([1, 3, 10])"
      ]
     },
     "execution_count": 228,
     "metadata": {},
     "output_type": "execute_result"
    }
   ],
   "source": [
    "from torch.nn.functional import interpolate\n",
    "interpolate(test,10, mode=\"linear\").shape"
   ]
  },
  {
   "cell_type": "code",
   "execution_count": 244,
   "metadata": {},
   "outputs": [
    {
     "name": "stdout",
     "output_type": "stream",
     "text": [
      "torch.Size([1, 1, 3, 3])\n",
      "tensor([[1.0000, 2.0000, 3.0000],\n",
      "        [1.0000, 2.0000, 3.0000],\n",
      "        [1.7500, 2.7500, 3.7500],\n",
      "        [2.6500, 3.6500, 4.6500],\n",
      "        [3.5500, 4.5500, 5.5500],\n",
      "        [4.4500, 5.4500, 6.4500],\n",
      "        [5.3500, 6.3500, 7.3500],\n",
      "        [6.2500, 7.2500, 8.2500],\n",
      "        [7.0000, 8.0000, 9.0000],\n",
      "        [7.0000, 8.0000, 9.0000]])\n"
     ]
    }
   ],
   "source": [
    "import torch\n",
    "import torch.nn.functional as F\n",
    "\n",
    "# 주어진 Tensor\n",
    "tensor = torch.FloatTensor([[[1, 2, 3], \n",
    "                             [4, 5, 6], \n",
    "                             [7, 8, 9]]])\n",
    "\n",
    "# Tensor를 이미지로 변환하고 배치 차원 추가\n",
    "image_tensor = tensor.unsqueeze(0)\n",
    "print(image_tensor.shape)\n",
    "# 보간을 통한 이미지 크기 조절 (세로 차원을 10배로)\n",
    "interpolated_image_tensor = F.interpolate(image_tensor, size=(10,3), mode='bilinear')\n",
    "\n",
    "# 결과 출력\n",
    "print(interpolated_image_tensor.squeeze())\n"
   ]
  },
  {
   "cell_type": "code",
   "execution_count": 182,
   "metadata": {},
   "outputs": [
    {
     "name": "stdout",
     "output_type": "stream",
     "text": [
      "Dataset -> num_of_data:139958\n",
      "Dataset -> num_of_data:59978\n"
     ]
    }
   ],
   "source": [
    "train_num = int(len(total) * 0.7)\n",
    "\n",
    "train_dataset = ColorIterDataset(total[:train_num])\n",
    "val_dataset = ColorIterDataset(total[train_num:])\n",
    "\n",
    "train_loader = DataLoader(train_dataset, batch_size=16, shuffle=True, num_workers=16)\n",
    "val_loader = DataLoader(val_dataset, batch_size=16, shuffle=False, num_workers=16)"
   ]
  },
  {
   "cell_type": "code",
   "execution_count": 16,
   "metadata": {},
   "outputs": [],
   "source": [
    "class ColorAutoencoder(nn.Module):\n",
    "    def __init__(self, input_dim, latent_dim):\n",
    "        super().__init__()\n",
    "\n",
    "        # 인코더 정의\n",
    "        self.encoder = nn.Sequential(\n",
    "            nn.Linear(input_dim, 128),\n",
    "            nn.LayerNorm(128),\n",
    "            nn.ReLU(),\n",
    "            nn.Linear(128, latent_dim),\n",
    "            nn.LayerNorm(latent_dim),\n",
    "            nn.ReLU(),\n",
    "        )\n",
    "\n",
    "        # 디코더 정의\n",
    "        self.decoder = nn.Sequential(\n",
    "            nn.Linear(latent_dim, 128),\n",
    "            nn.LayerNorm(128),\n",
    "            nn.ReLU(),\n",
    "            nn.Linear(128, 16),\n",
    "            nn.Sigmoid()  # RGB 값은 [0, 1] 범위로 제한\n",
    "        )\n",
    "\n",
    "    def forward(self, x):\n",
    "        # 인코더와 디코더 연결\n",
    "        encoded = self.encoder(x)\n",
    "        decoded = self.decoder(encoded)\n",
    "        return decoded\n",
    "\n",
    "# 모델 생성\n",
    "latent_dim = 256  # latent space의 차원 설정\n",
    "model = ColorAutoencoder(16, 256)"
   ]
  },
  {
   "cell_type": "code",
   "execution_count": 7,
   "metadata": {},
   "outputs": [],
   "source": [
    "def train(model, epoch, loader, optimizer, criterion):\n",
    "    model.train()\n",
    "\n",
    "    running_loss = 0.0\n",
    "    for idx, (inputs, labels) in tqdm(enumerate(loader), leave=False, desc=f\"Epoch:{epoch} train\", total=len(loader)):\n",
    "        inputs = inputs.to(\"cuda\")\n",
    "        labels = labels.to(\"cuda\")\n",
    "        \n",
    "        outputs = model(inputs)\n",
    "        loss = criterion(outputs, labels)\n",
    "\n",
    "        optimizer.zero_grad()\n",
    "        loss.backward()\n",
    "        optimizer.step()\n",
    "\n",
    "        running_loss += loss.item()\n",
    "  \n",
    "    return running_loss/len(loader)*100\n",
    "    \n",
    "\n",
    "def val(model, epoch, loader, criterion):\n",
    "    model.eval()\n",
    "\n",
    "    running_loss = 0.0\n",
    "    with torch.no_grad():\n",
    "        for idx, (inputs, labels) in tqdm(enumerate(loader), leave=False, desc=f\"Epoch:{epoch} val\", total=len(loader)):\n",
    "            inputs = inputs.to(\"cuda\")\n",
    "            labels = labels.to(\"cuda\")\n",
    "\n",
    "            outputs = model(inputs)\n",
    "            loss = criterion(outputs, labels)\n",
    "            \n",
    "            running_loss += loss.item()\n",
    "\n",
    "    return running_loss/len(loader)*100"
   ]
  },
  {
   "cell_type": "code",
   "execution_count": 8,
   "metadata": {},
   "outputs": [
    {
     "name": "stderr",
     "output_type": "stream",
     "text": [
      "                                                                   "
     ]
    },
    {
     "name": "stdout",
     "output_type": "stream",
     "text": [
      "\n",
      "***Epoch: 0***\n",
      "train_loss: 8.418318419025255\n",
      "val_loss: 9.932089215812761\n",
      "cur_lr: 1e-08\n",
      "\n"
     ]
    },
    {
     "name": "stderr",
     "output_type": "stream",
     "text": [
      "                                                                    "
     ]
    },
    {
     "name": "stdout",
     "output_type": "stream",
     "text": [
      "\n",
      "***Epoch: 1***\n",
      "train_loss: 0.09079089227568085\n",
      "val_loss: 0.020484403592596963\n",
      "cur_lr: 0.00033334\n",
      "\n"
     ]
    },
    {
     "name": "stderr",
     "output_type": "stream",
     "text": [
      "                                                                    "
     ]
    },
    {
     "name": "stdout",
     "output_type": "stream",
     "text": [
      "\n",
      "***Epoch: 2***\n",
      "train_loss: 0.021149740557067174\n",
      "val_loss: 0.012317782750606108\n",
      "cur_lr: 0.0006666700000000001\n",
      "\n"
     ]
    },
    {
     "name": "stderr",
     "output_type": "stream",
     "text": [
      "                                                                   "
     ]
    },
    {
     "name": "stdout",
     "output_type": "stream",
     "text": [
      "\n",
      "***Epoch: 3***\n",
      "train_loss: 0.015366214656572431\n",
      "val_loss: 0.014793563227767098\n",
      "cur_lr: 0.001\n",
      "\n"
     ]
    },
    {
     "name": "stderr",
     "output_type": "stream",
     "text": [
      "                                                                    "
     ]
    },
    {
     "name": "stdout",
     "output_type": "stream",
     "text": [
      "\n",
      "***Epoch: 4***\n",
      "train_loss: 0.00977975106103952\n",
      "val_loss: 0.00655227345978526\n",
      "cur_lr: 0.0009504849291068701\n",
      "\n"
     ]
    },
    {
     "name": "stderr",
     "output_type": "stream",
     "text": [
      "                                                                    \r"
     ]
    },
    {
     "ename": "KeyboardInterrupt",
     "evalue": "",
     "output_type": "error",
     "traceback": [
      "\u001b[0;31m---------------------------------------------------------------------------\u001b[0m",
      "\u001b[0;31mKeyboardInterrupt\u001b[0m                         Traceback (most recent call last)",
      "Cell \u001b[0;32mIn[8], line 10\u001b[0m\n\u001b[1;32m      7\u001b[0m scheduler \u001b[39m=\u001b[39m CosineAnnealingWarmUpRestarts(optimizer, T_0\u001b[39m=\u001b[39m\u001b[39m10\u001b[39m, T_mult\u001b[39m=\u001b[39m\u001b[39m2\u001b[39m, eta_max\u001b[39m=\u001b[39m\u001b[39m1e-3\u001b[39m,  T_up\u001b[39m=\u001b[39m\u001b[39m3\u001b[39m, gamma\u001b[39m=\u001b[39m\u001b[39m0.5\u001b[39m)\n\u001b[1;32m      9\u001b[0m \u001b[39mfor\u001b[39;00m epoch \u001b[39min\u001b[39;00m \u001b[39mrange\u001b[39m(\u001b[39m100\u001b[39m):\n\u001b[0;32m---> 10\u001b[0m     train_loss \u001b[39m=\u001b[39m train(model, epoch, train_loader, optimizer, criterion)\n\u001b[1;32m     11\u001b[0m     val_loss \u001b[39m=\u001b[39m val(model, epoch, val_loader, criterion)\n\u001b[1;32m     13\u001b[0m     \u001b[39mprint\u001b[39m(\u001b[39mf\u001b[39m\u001b[39m\"\u001b[39m\u001b[39m\\n\u001b[39;00m\u001b[39m***Epoch: \u001b[39m\u001b[39m{\u001b[39;00mepoch\u001b[39m}\u001b[39;00m\u001b[39m***\u001b[39m\u001b[39m\\n\u001b[39;00m\u001b[39mtrain_loss: \u001b[39m\u001b[39m{\u001b[39;00mtrain_loss\u001b[39m}\u001b[39;00m\u001b[39m\\n\u001b[39;00m\u001b[39mval_loss: \u001b[39m\u001b[39m{\u001b[39;00mval_loss\u001b[39m}\u001b[39;00m\u001b[39m\\n\u001b[39;00m\u001b[39mcur_lr: \u001b[39m\u001b[39m{\u001b[39;00mscheduler\u001b[39m.\u001b[39mget_last_lr()\u001b[39m}\u001b[39;00m\u001b[39m\\n\u001b[39;00m\u001b[39m\"\u001b[39m)\n",
      "Cell \u001b[0;32mIn[7], line 9\u001b[0m, in \u001b[0;36mtrain\u001b[0;34m(model, epoch, loader, optimizer, criterion)\u001b[0m\n\u001b[1;32m      6\u001b[0m inputs \u001b[39m=\u001b[39m inputs\u001b[39m.\u001b[39mto(\u001b[39m\"\u001b[39m\u001b[39mcuda\u001b[39m\u001b[39m\"\u001b[39m)\n\u001b[1;32m      7\u001b[0m labels \u001b[39m=\u001b[39m labels\u001b[39m.\u001b[39mto(\u001b[39m\"\u001b[39m\u001b[39mcuda\u001b[39m\u001b[39m\"\u001b[39m)\n\u001b[0;32m----> 9\u001b[0m outputs \u001b[39m=\u001b[39m model(inputs)\n\u001b[1;32m     10\u001b[0m loss \u001b[39m=\u001b[39m criterion(outputs, labels)\n\u001b[1;32m     12\u001b[0m optimizer\u001b[39m.\u001b[39mzero_grad()\n",
      "File \u001b[0;32m~/anaconda3/envs/kjg_ver39/lib/python3.9/site-packages/torch/nn/modules/module.py:1501\u001b[0m, in \u001b[0;36mModule._call_impl\u001b[0;34m(self, *args, **kwargs)\u001b[0m\n\u001b[1;32m   1496\u001b[0m \u001b[39m# If we don't have any hooks, we want to skip the rest of the logic in\u001b[39;00m\n\u001b[1;32m   1497\u001b[0m \u001b[39m# this function, and just call forward.\u001b[39;00m\n\u001b[1;32m   1498\u001b[0m \u001b[39mif\u001b[39;00m \u001b[39mnot\u001b[39;00m (\u001b[39mself\u001b[39m\u001b[39m.\u001b[39m_backward_hooks \u001b[39mor\u001b[39;00m \u001b[39mself\u001b[39m\u001b[39m.\u001b[39m_backward_pre_hooks \u001b[39mor\u001b[39;00m \u001b[39mself\u001b[39m\u001b[39m.\u001b[39m_forward_hooks \u001b[39mor\u001b[39;00m \u001b[39mself\u001b[39m\u001b[39m.\u001b[39m_forward_pre_hooks\n\u001b[1;32m   1499\u001b[0m         \u001b[39mor\u001b[39;00m _global_backward_pre_hooks \u001b[39mor\u001b[39;00m _global_backward_hooks\n\u001b[1;32m   1500\u001b[0m         \u001b[39mor\u001b[39;00m _global_forward_hooks \u001b[39mor\u001b[39;00m _global_forward_pre_hooks):\n\u001b[0;32m-> 1501\u001b[0m     \u001b[39mreturn\u001b[39;00m forward_call(\u001b[39m*\u001b[39;49margs, \u001b[39m*\u001b[39;49m\u001b[39m*\u001b[39;49mkwargs)\n\u001b[1;32m   1502\u001b[0m \u001b[39m# Do not call functions when jit is used\u001b[39;00m\n\u001b[1;32m   1503\u001b[0m full_backward_hooks, non_full_backward_hooks \u001b[39m=\u001b[39m [], []\n",
      "Cell \u001b[0;32mIn[6], line 27\u001b[0m, in \u001b[0;36mColorAutoencoder.forward\u001b[0;34m(self, x)\u001b[0m\n\u001b[1;32m     25\u001b[0m \u001b[39mdef\u001b[39;00m \u001b[39mforward\u001b[39m(\u001b[39mself\u001b[39m, x):\n\u001b[1;32m     26\u001b[0m     \u001b[39m# 인코더와 디코더 연결\u001b[39;00m\n\u001b[0;32m---> 27\u001b[0m     encoded \u001b[39m=\u001b[39m \u001b[39mself\u001b[39;49m\u001b[39m.\u001b[39;49mencoder(x)\n\u001b[1;32m     28\u001b[0m     decoded \u001b[39m=\u001b[39m \u001b[39mself\u001b[39m\u001b[39m.\u001b[39mdecoder(encoded)\n\u001b[1;32m     29\u001b[0m     \u001b[39mreturn\u001b[39;00m decoded\n",
      "File \u001b[0;32m~/anaconda3/envs/kjg_ver39/lib/python3.9/site-packages/torch/nn/modules/module.py:1501\u001b[0m, in \u001b[0;36mModule._call_impl\u001b[0;34m(self, *args, **kwargs)\u001b[0m\n\u001b[1;32m   1496\u001b[0m \u001b[39m# If we don't have any hooks, we want to skip the rest of the logic in\u001b[39;00m\n\u001b[1;32m   1497\u001b[0m \u001b[39m# this function, and just call forward.\u001b[39;00m\n\u001b[1;32m   1498\u001b[0m \u001b[39mif\u001b[39;00m \u001b[39mnot\u001b[39;00m (\u001b[39mself\u001b[39m\u001b[39m.\u001b[39m_backward_hooks \u001b[39mor\u001b[39;00m \u001b[39mself\u001b[39m\u001b[39m.\u001b[39m_backward_pre_hooks \u001b[39mor\u001b[39;00m \u001b[39mself\u001b[39m\u001b[39m.\u001b[39m_forward_hooks \u001b[39mor\u001b[39;00m \u001b[39mself\u001b[39m\u001b[39m.\u001b[39m_forward_pre_hooks\n\u001b[1;32m   1499\u001b[0m         \u001b[39mor\u001b[39;00m _global_backward_pre_hooks \u001b[39mor\u001b[39;00m _global_backward_hooks\n\u001b[1;32m   1500\u001b[0m         \u001b[39mor\u001b[39;00m _global_forward_hooks \u001b[39mor\u001b[39;00m _global_forward_pre_hooks):\n\u001b[0;32m-> 1501\u001b[0m     \u001b[39mreturn\u001b[39;00m forward_call(\u001b[39m*\u001b[39;49margs, \u001b[39m*\u001b[39;49m\u001b[39m*\u001b[39;49mkwargs)\n\u001b[1;32m   1502\u001b[0m \u001b[39m# Do not call functions when jit is used\u001b[39;00m\n\u001b[1;32m   1503\u001b[0m full_backward_hooks, non_full_backward_hooks \u001b[39m=\u001b[39m [], []\n",
      "File \u001b[0;32m~/anaconda3/envs/kjg_ver39/lib/python3.9/site-packages/torch/nn/modules/container.py:217\u001b[0m, in \u001b[0;36mSequential.forward\u001b[0;34m(self, input)\u001b[0m\n\u001b[1;32m    215\u001b[0m \u001b[39mdef\u001b[39;00m \u001b[39mforward\u001b[39m(\u001b[39mself\u001b[39m, \u001b[39minput\u001b[39m):\n\u001b[1;32m    216\u001b[0m     \u001b[39mfor\u001b[39;00m module \u001b[39min\u001b[39;00m \u001b[39mself\u001b[39m:\n\u001b[0;32m--> 217\u001b[0m         \u001b[39minput\u001b[39m \u001b[39m=\u001b[39m module(\u001b[39minput\u001b[39;49m)\n\u001b[1;32m    218\u001b[0m     \u001b[39mreturn\u001b[39;00m \u001b[39minput\u001b[39m\n",
      "File \u001b[0;32m~/anaconda3/envs/kjg_ver39/lib/python3.9/site-packages/torch/nn/modules/module.py:1501\u001b[0m, in \u001b[0;36mModule._call_impl\u001b[0;34m(self, *args, **kwargs)\u001b[0m\n\u001b[1;32m   1496\u001b[0m \u001b[39m# If we don't have any hooks, we want to skip the rest of the logic in\u001b[39;00m\n\u001b[1;32m   1497\u001b[0m \u001b[39m# this function, and just call forward.\u001b[39;00m\n\u001b[1;32m   1498\u001b[0m \u001b[39mif\u001b[39;00m \u001b[39mnot\u001b[39;00m (\u001b[39mself\u001b[39m\u001b[39m.\u001b[39m_backward_hooks \u001b[39mor\u001b[39;00m \u001b[39mself\u001b[39m\u001b[39m.\u001b[39m_backward_pre_hooks \u001b[39mor\u001b[39;00m \u001b[39mself\u001b[39m\u001b[39m.\u001b[39m_forward_hooks \u001b[39mor\u001b[39;00m \u001b[39mself\u001b[39m\u001b[39m.\u001b[39m_forward_pre_hooks\n\u001b[1;32m   1499\u001b[0m         \u001b[39mor\u001b[39;00m _global_backward_pre_hooks \u001b[39mor\u001b[39;00m _global_backward_hooks\n\u001b[1;32m   1500\u001b[0m         \u001b[39mor\u001b[39;00m _global_forward_hooks \u001b[39mor\u001b[39;00m _global_forward_pre_hooks):\n\u001b[0;32m-> 1501\u001b[0m     \u001b[39mreturn\u001b[39;00m forward_call(\u001b[39m*\u001b[39;49margs, \u001b[39m*\u001b[39;49m\u001b[39m*\u001b[39;49mkwargs)\n\u001b[1;32m   1502\u001b[0m \u001b[39m# Do not call functions when jit is used\u001b[39;00m\n\u001b[1;32m   1503\u001b[0m full_backward_hooks, non_full_backward_hooks \u001b[39m=\u001b[39m [], []\n",
      "File \u001b[0;32m~/anaconda3/envs/kjg_ver39/lib/python3.9/site-packages/torch/nn/modules/normalization.py:190\u001b[0m, in \u001b[0;36mLayerNorm.forward\u001b[0;34m(self, input)\u001b[0m\n\u001b[1;32m    189\u001b[0m \u001b[39mdef\u001b[39;00m \u001b[39mforward\u001b[39m(\u001b[39mself\u001b[39m, \u001b[39minput\u001b[39m: Tensor) \u001b[39m-\u001b[39m\u001b[39m>\u001b[39m Tensor:\n\u001b[0;32m--> 190\u001b[0m     \u001b[39mreturn\u001b[39;00m F\u001b[39m.\u001b[39;49mlayer_norm(\n\u001b[1;32m    191\u001b[0m         \u001b[39minput\u001b[39;49m, \u001b[39mself\u001b[39;49m\u001b[39m.\u001b[39;49mnormalized_shape, \u001b[39mself\u001b[39;49m\u001b[39m.\u001b[39;49mweight, \u001b[39mself\u001b[39;49m\u001b[39m.\u001b[39;49mbias, \u001b[39mself\u001b[39;49m\u001b[39m.\u001b[39;49meps)\n",
      "File \u001b[0;32m~/anaconda3/envs/kjg_ver39/lib/python3.9/site-packages/torch/nn/functional.py:2515\u001b[0m, in \u001b[0;36mlayer_norm\u001b[0;34m(input, normalized_shape, weight, bias, eps)\u001b[0m\n\u001b[1;32m   2511\u001b[0m \u001b[39mif\u001b[39;00m has_torch_function_variadic(\u001b[39minput\u001b[39m, weight, bias):\n\u001b[1;32m   2512\u001b[0m     \u001b[39mreturn\u001b[39;00m handle_torch_function(\n\u001b[1;32m   2513\u001b[0m         layer_norm, (\u001b[39minput\u001b[39m, weight, bias), \u001b[39minput\u001b[39m, normalized_shape, weight\u001b[39m=\u001b[39mweight, bias\u001b[39m=\u001b[39mbias, eps\u001b[39m=\u001b[39meps\n\u001b[1;32m   2514\u001b[0m     )\n\u001b[0;32m-> 2515\u001b[0m \u001b[39mreturn\u001b[39;00m torch\u001b[39m.\u001b[39;49mlayer_norm(\u001b[39minput\u001b[39;49m, normalized_shape, weight, bias, eps, torch\u001b[39m.\u001b[39;49mbackends\u001b[39m.\u001b[39;49mcudnn\u001b[39m.\u001b[39;49menabled)\n",
      "\u001b[0;31mKeyboardInterrupt\u001b[0m: "
     ]
    }
   ],
   "source": [
    "model.to(\"cuda\")\n",
    "\n",
    "criterion = nn.MSELoss()\n",
    "\n",
    "from model.lr_scheduler import CosineAnnealingWarmUpRestarts\n",
    "optimizer = torch.optim.AdamW(model.parameters(), lr = 1e-8)\n",
    "scheduler = CosineAnnealingWarmUpRestarts(optimizer, T_0=10, T_mult=2, eta_max=1e-3,  T_up=3, gamma=0.5)\n",
    "\n",
    "for epoch in range(100):\n",
    "    train_loss = train(model, epoch, train_loader, optimizer, criterion)\n",
    "    val_loss = val(model, epoch, val_loader, criterion)\n",
    "    if val_loss < 0.0005: break\n",
    "    print(f\"\\n***Epoch: {epoch}***\\ntrain_loss: {train_loss}\\nval_loss: {val_loss}\\ncur_lr: {scheduler.get_last_lr()}\\n\")\n",
    "\n",
    "    scheduler.step()\n"
   ]
  },
  {
   "cell_type": "code",
   "execution_count": 126,
   "metadata": {},
   "outputs": [],
   "source": [
    "torch.save(model.state_dict(), \"encoder.pth\")"
   ]
  },
  {
   "cell_type": "code",
   "execution_count": 91,
   "metadata": {},
   "outputs": [
    {
     "ename": "NameError",
     "evalue": "name 'ColorAutoencoder' is not defined",
     "output_type": "error",
     "traceback": [
      "\u001b[0;31m---------------------------------------------------------------------------\u001b[0m",
      "\u001b[0;31mNameError\u001b[0m                                 Traceback (most recent call last)",
      "Cell \u001b[0;32mIn[91], line 2\u001b[0m\n\u001b[1;32m      1\u001b[0m latent_dim \u001b[39m=\u001b[39m \u001b[39m256\u001b[39m  \u001b[39m# latent space의 차원 설정\u001b[39;00m\n\u001b[0;32m----> 2\u001b[0m model \u001b[39m=\u001b[39m ColorAutoencoder(\u001b[39m16\u001b[39m, \u001b[39m256\u001b[39m)\n",
      "\u001b[0;31mNameError\u001b[0m: name 'ColorAutoencoder' is not defined"
     ]
    }
   ],
   "source": [
    "latent_dim = 256  # latent space의 차원 설정\n",
    "model = ColorAutoencoder(16, 256)"
   ]
  },
  {
   "cell_type": "code",
   "execution_count": 137,
   "metadata": {},
   "outputs": [],
   "source": [
    "encoder = model.encoder\n",
    "decoder = model.decoder"
   ]
  },
  {
   "cell_type": "code",
   "execution_count": 151,
   "metadata": {},
   "outputs": [],
   "source": [
    "from utils.colors_utils import visualize_rgb_colors"
   ]
  },
  {
   "cell_type": "code",
   "execution_count": 175,
   "metadata": {},
   "outputs": [],
   "source": [
    "input = val_dataset[100][0]"
   ]
  },
  {
   "cell_type": "code",
   "execution_count": 176,
   "metadata": {},
   "outputs": [
    {
     "data": {
      "image/png": "[encoded data removed]",
      "text/plain": [
       "<Figure size 640x480 with 1 Axes>"
      ]
     },
     "metadata": {},
     "output_type": "display_data"
    }
   ],
   "source": [
    "visualize_rgb_colors((input.reshape(-1,4)[:,:3]*255).numpy())"
   ]
  },
  {
   "cell_type": "code",
   "execution_count": 177,
   "metadata": {},
   "outputs": [
    {
     "data": {
      "text/plain": [
       "tensor([0.8980, 0.8039, 0.6588, 0.4125, 0.9020, 0.8863, 0.8627, 0.2990, 0.8078,\n",
       "        0.7804, 0.7451, 0.1636, 0.6118, 0.5333, 0.4118, 0.1249])"
      ]
     },
     "execution_count": 177,
     "metadata": {},
     "output_type": "execute_result"
    }
   ],
   "source": [
    "input"
   ]
  },
  {
   "cell_type": "code",
   "execution_count": 178,
   "metadata": {},
   "outputs": [
    {
     "data": {
      "image/png": "[encoded data removed]",
      "text/plain": [
       "<Figure size 640x480 with 1 Axes>"
      ]
     },
     "metadata": {},
     "output_type": "display_data"
    }
   ],
   "source": [
    "visualize_rgb_colors((model(input.to(\"cuda\")).detach().to(\"cpu\").reshape(-1,4)[:,:3]*255).numpy())"
   ]
  },
  {
   "cell_type": "markdown",
   "metadata": {},
   "source": [
    "# 추천 학습"
   ]
  },
  {
   "cell_type": "code",
   "execution_count": 56,
   "metadata": {},
   "outputs": [],
   "source": [
    "import torch\n",
    "import torch.nn as nn\n",
    "from tqdm import tqdm\n",
    "import numpy as np\n",
    "from torch.utils.data import Dataset\n",
    "from torch.utils.data import DataLoader"
   ]
  },
  {
   "cell_type": "code",
   "execution_count": 57,
   "metadata": {},
   "outputs": [],
   "source": [
    "import os\n",
    "import json"
   ]
  },
  {
   "cell_type": "code",
   "execution_count": 58,
   "metadata": {},
   "outputs": [],
   "source": [
    "from utils.colors_utils import color_normalization, color_normalization_restore"
   ]
  },
  {
   "cell_type": "code",
   "execution_count": 59,
   "metadata": {},
   "outputs": [],
   "source": [
    "class CustomActivationFunction(nn.Module):\n",
    "    def __init__(self):\n",
    "        super(CustomActivationFunction, self).__init__()\n",
    "\n",
    "    def forward(self, x):\n",
    "        # 음수 부분은 0으로 만듭니다.\n",
    "        negative_part = F.relu(-x)\n",
    "        \n",
    "        # 양수 부분은 그대로 사용합니다.\n",
    "        positive_part = F.relu(x)\n",
    "\n",
    "        # 음수 부분과 양수 부분을 합칩니다.\n",
    "        result = negative_part + positive_part\n",
    "\n",
    "        # 1 이상인 부분을 1로 만듭니다.\n",
    "        result = torch.where(result >= 1, torch.tensor(1.0), result)\n",
    "\n",
    "        return result"
   ]
  },
  {
   "cell_type": "code",
   "execution_count": 137,
   "metadata": {},
   "outputs": [],
   "source": [
    "class EmbedDataset(Dataset):\n",
    "    def __init__(self, data_json_path, label_json_path, encoder, device = \"cuda\"):\n",
    "        self.device = device\n",
    "\n",
    "        encoder.to(device)\n",
    "        encoder.eval()\n",
    "        self.encoder = encoder\n",
    "\n",
    "        with open(os.path.join(data_json_path), mode=\"r\") as f:\n",
    "            data_map = json.load(f)\n",
    "\n",
    "        with open(os.path.join(label_json_path), mode=\"r\") as f:\n",
    "            label_map = json.load(f)\n",
    "        \n",
    "        map_keys = [cur for cur in sorted(label_map.keys()) if label_map[cur][0] != \"Error\" and data_map[cur][0] != \"Error\"]\n",
    "\n",
    "        self.datas = [\n",
    "                        (key,\n",
    "                         self.embed(data_map[key]),\n",
    "                        #  self.embed(label_map[key]), \n",
    "                         torch.FloatTensor(color_normalization(label_map[key][0], scaling=True, type=\"rgb\").flatten()),\n",
    "                         label_map[key][2]\n",
    "                         ) \n",
    "                        for key in map_keys\n",
    "                    ]\n",
    "\n",
    "\n",
    "        print(f\"Dataset -> data_path:{data_json_path}, num_of_data:{len(self.datas)}\")\n",
    "\n",
    "\n",
    "    def embed(self, data):\n",
    "        try:\n",
    "            colors = np.array(data[0])/255\n",
    "            percentage = np.array(data[1]).reshape(-1,1)\n",
    "            feature = np.concatenate([colors, percentage], axis=1)\n",
    "        except:\n",
    "            print(data)\n",
    "        return self.encoder(torch.FloatTensor(feature.flatten()).to(self.device)).detach().to(\"cpu\")\n",
    "    \n",
    "    def __getitem__(self, idx):\n",
    "        key, data, label, weight_key = self.datas[idx]\n",
    "        return key, data, label, [str(cur) for cur in weight_key]\n",
    "\n",
    "    def __len__(self):\n",
    "        return len(self.datas)"
   ]
  },
  {
   "cell_type": "code",
   "execution_count": 61,
   "metadata": {},
   "outputs": [],
   "source": [
    "class ResidualBlock(nn.Module):\n",
    "    def __init__(self, input_dim):\n",
    "        super().__init__()\n",
    "        self.block = nn.Sequential(\n",
    "            nn.Linear(input_dim, input_dim),\n",
    "            nn.LayerNorm(input_dim),\n",
    "            nn.ReLU()\n",
    "        )\n",
    "\n",
    "    def forward(self, x):\n",
    "        return self.block(x) + x\n",
    "    \n",
    "\n",
    "class EmbedNet(nn.Module):\n",
    "    def __init__(self, input_size, output_size, inter_num=3, hidden_dims=[128, 64]):\n",
    "        super().__init__()\n",
    "\n",
    "        self.first_layer = nn.Linear(input_size, hidden_dims[0])\n",
    "\n",
    "\n",
    "        module = []\n",
    "        in_size = hidden_dims[0]\n",
    "        for ex_dim in hidden_dims[1:]:\n",
    "            module.append(nn.Sequential(\n",
    "                                nn.Linear(in_size, ex_dim),\n",
    "                                nn.LayerNorm(ex_dim),\n",
    "                                nn.ReLU(),\n",
    "                            ))\n",
    "            in_size = ex_dim\n",
    "        self.expander = nn.Sequential(*module)\n",
    "\n",
    "\n",
    "        module = []\n",
    "        for _ in range(inter_num):\n",
    "            module.append(nn.Sequential(\n",
    "                                ResidualBlock(hidden_dims[-1]),\n",
    "                                # nn.Dropout(0.3),\n",
    "                            ))\n",
    "        self.intermediate = nn.Sequential(*module)\n",
    "        self.dropout = nn.Dropout(0.3)\n",
    "\n",
    "        module = []\n",
    "        in_size = hidden_dims[-1]\n",
    "        for re_dim in reversed(hidden_dims[:-1]):\n",
    "            module.append(nn.Sequential(\n",
    "                                nn.Linear(in_size, re_dim),\n",
    "                                nn.LayerNorm(re_dim),\n",
    "                                nn.ReLU(),\n",
    "                            ))\n",
    "            in_size = re_dim\n",
    "        self.reducer = nn.Sequential(*module)\n",
    "\n",
    "\n",
    "        self.last_layer = nn.Sequential(\n",
    "                                nn.Linear(hidden_dims[0], output_size),\n",
    "                                )\n",
    "\n",
    "\n",
    "    def forward(self, x):\n",
    "        x = self.first_layer(x)\n",
    "        x = self.expander(x)\n",
    "        x = self.dropout(x)\n",
    "        x = self.intermediate(x)\n",
    "        x = self.reducer(x)\n",
    "        x = self.last_layer(x)\n",
    "        return x"
   ]
  },
  {
   "cell_type": "code",
   "execution_count": 62,
   "metadata": {},
   "outputs": [],
   "source": [
    "class ResCatBlock(nn.Module):\n",
    "    def __init__(self, input_dim, output_dim, iter_dim = 1):\n",
    "        super().__init__()\n",
    "        if output_dim % 2 == 1:\n",
    "            raise ValueError\n",
    "\n",
    "        out_dim_prev_concat = int(output_dim/2)\n",
    "\n",
    "        self.block = nn.Sequential(\n",
    "            nn.Linear(input_dim, out_dim_prev_concat),\n",
    "            nn.LayerNorm(out_dim_prev_concat),\n",
    "            nn.ReLU(),\n",
    "        )\n",
    "\n",
    "        module = []\n",
    "        for _ in range(iter_dim):\n",
    "            module.append(nn.Sequential(\n",
    "                nn.Linear(out_dim_prev_concat, out_dim_prev_concat),\n",
    "                nn.LayerNorm(out_dim_prev_concat),\n",
    "                nn.ReLU(),\n",
    "            ))\n",
    "        self.iter = nn.Sequential(*module)\n",
    "        \n",
    "        self.shortcur = nn.Sequential(\n",
    "            nn.Linear(input_dim, out_dim_prev_concat),\n",
    "            nn.LayerNorm(out_dim_prev_concat),\n",
    "            nn.ReLU(),\n",
    "        )\n",
    "\n",
    "    def forward(self, x):\n",
    "        y = self.block(x)\n",
    "        y = self.iter(y)\n",
    "        res = self.shortcur(x)\n",
    "        return torch.concat((y, res), dim=1)\n",
    "\n",
    "class ResLinearNet(nn.Module):\n",
    "    def __init__(self, input_size, output_size, hidden_dims=[256, 128, 64, 32]):\n",
    "        super().__init__()\n",
    "\n",
    "        self.dropout = nn.Dropout(0.3)\n",
    "        self.first_layer = nn.Linear(input_size, hidden_dims[0])\n",
    "\n",
    "\n",
    "        module = []\n",
    "        in_size = hidden_dims[0]\n",
    "        for ex_dim in hidden_dims[1:]:\n",
    "            module.append(nn.Sequential(\n",
    "                nn.Linear(in_size, ex_dim),\n",
    "                nn.LayerNorm(ex_dim),\n",
    "                nn.ReLU(),\n",
    "                # ResCatBlock(in_size, ex_dim),\n",
    "                ))\n",
    "            in_size = ex_dim\n",
    "        self.reducer = nn.Sequential(*module)\n",
    "\n",
    "\n",
    "        self.last_layer = nn.Sequential(\n",
    "                                nn.Linear(hidden_dims[-1], output_size),\n",
    "                                )\n",
    "\n",
    "\n",
    "    def forward(self, x):\n",
    "        x = self.first_layer(x)\n",
    "        x = self.reducer(x)\n",
    "        x = self.last_layer(x)\n",
    "        return x"
   ]
  },
  {
   "cell_type": "code",
   "execution_count": 63,
   "metadata": {},
   "outputs": [],
   "source": [
    "class EmbedVAE(nn.Module):\n",
    "    def __init__(self, input_size, output_size, latent_dim, inter_num=3, hidden_dims=[128, 64]):\n",
    "        super().__init__()\n",
    "\n",
    "        # 첫 번째 계층\n",
    "        self.first_layer = nn.Linear(input_size, hidden_dims[0])\n",
    "\n",
    "        # 확장 계층\n",
    "        module = []\n",
    "        in_size = hidden_dims[0]\n",
    "        for ex_dim in hidden_dims[1:]:\n",
    "            module.append(nn.Sequential(\n",
    "                nn.Linear(in_size, ex_dim),\n",
    "                nn.LayerNorm(ex_dim),\n",
    "                nn.ReLU(),\n",
    "            ))\n",
    "            in_size = ex_dim\n",
    "        self.expander = nn.Sequential(*module)\n",
    "\n",
    "        # 중간 계층 (intermediate)\n",
    "        module = []\n",
    "        for _ in range(inter_num):\n",
    "            module.append(nn.Sequential(\n",
    "                ResidualBlock(hidden_dims[-1]),\n",
    "                # nn.Dropout(0.5),\n",
    "            ))\n",
    "        self.intermediate = nn.Sequential(*module)\n",
    "\n",
    "        # 인코더의 평균과 로그 분산 계층\n",
    "        self.fc_mu = nn.Linear(hidden_dims[-1], latent_dim)\n",
    "        self.fc_logvar = nn.Linear(hidden_dims[-1], latent_dim)\n",
    "\n",
    "        # 디코더의 첫 번째 계층\n",
    "        self.fc_decode = nn.Linear(latent_dim, hidden_dims[-1])\n",
    "\n",
    "        # 축소 계층\n",
    "        module = []\n",
    "        in_size = hidden_dims[-1]\n",
    "        for re_dim in reversed(hidden_dims[:-1]):\n",
    "            module.append(nn.Sequential(\n",
    "                nn.Linear(in_size, re_dim),\n",
    "                nn.LayerNorm(re_dim),\n",
    "                nn.ReLU(),\n",
    "            ))\n",
    "            in_size = re_dim\n",
    "        self.reducer = nn.Sequential(*module)\n",
    "\n",
    "        # 마지막 계층\n",
    "        self.last_layer = nn.Sequential(\n",
    "            nn.Linear(hidden_dims[0], output_size),\n",
    "            nn.Sigmoid()\n",
    "        )\n",
    "\n",
    "    def reparameterize(self, mu, logvar):\n",
    "        std = torch.exp(0.5 * logvar)\n",
    "        eps = torch.randn_like(std)\n",
    "        return mu + eps * std\n",
    "\n",
    "    def forward(self, x):\n",
    "        x = self.first_layer(x)\n",
    "        x = self.expander(x)\n",
    "        # x = self.intermediate(x)\n",
    "\n",
    "        # 인코더를 통한 잠재 공간의 평균과 로그 분산 계산\n",
    "        mu = self.fc_mu(x)\n",
    "        logvar = self.fc_logvar(x)\n",
    "\n",
    "        # 리파라미터화 트릭 적용\n",
    "        z = self.reparameterize(mu, logvar)\n",
    "\n",
    "        # 디코더를 통한 데이터 재구성\n",
    "        x = self.fc_decode(z)\n",
    "        x = self.reducer(x)\n",
    "        x = self.last_layer(x)\n",
    "        return x, mu, logvar"
   ]
  },
  {
   "cell_type": "code",
   "execution_count": 64,
   "metadata": {},
   "outputs": [],
   "source": [
    "model = ColorAutoencoder(16, 256)\n",
    "\n",
    "state_path = \"./encoder.pth\"\n",
    "model.load_state_dict(torch.load(state_path, map_location=\"cpu\"))\n",
    "\n",
    "encoder = model.encoder\n",
    "decoder = model.decoder"
   ]
  },
  {
   "cell_type": "code",
   "execution_count": 75,
   "metadata": {},
   "outputs": [],
   "source": [
    "class PalletDataset(Dataset):\n",
    "    def __init__(self, data_json_path, label_json_path):\n",
    "        with open(os.path.join(data_json_path), mode=\"r\") as f:\n",
    "            data_map = json.load(f)\n",
    "\n",
    "        with open(os.path.join(label_json_path), mode=\"r\") as f:\n",
    "            label_map = json.load(f)\n",
    "\n",
    "        map_keys = [cur for cur in sorted(label_map.keys()) if label_map[cur][0] != \"Error\" and data_map[cur][0] != \"Error\"]\n",
    "\n",
    "        self.datas = [\n",
    "                        (key,\n",
    "                        data_map[key],\n",
    "                        self.concat_colors_percentaget(label_map[key][0], label_map[key][1]),\n",
    "                        label_map[key][2]\n",
    "                        ) \n",
    "                        for key in map_keys\n",
    "                    ]\n",
    "        \n",
    "        print(f\"Dataset -> data_path:{data_json_path}, num_of_data:{len(self.datas)}\")\n",
    "\n",
    "    def concat_colors_percentaget(self, colors, perc):\n",
    "        colors_t = torch.FloatTensor(colors)\n",
    "        perc_t = torch.FloatTensor(perc).unsqueeze(0).permute([1,0])\n",
    "        return torch.concatenate((colors_t, perc_t), 1)\n",
    "\n",
    "    def __getitem__(self, idx):\n",
    "\n",
    "        key, pallet, label, weight_key = self.datas[idx]\n",
    "        return key, torch.FloatTensor(pallet).flatten(), torch.FloatTensor(label).flatten(), [str(cur) for cur in weight_key]\n",
    "\n",
    "    def __len__(self):\n",
    "        return len(self.datas)"
   ]
  },
  {
   "cell_type": "code",
   "execution_count": 138,
   "metadata": {},
   "outputs": [
    {
     "name": "stdout",
     "output_type": "stream",
     "text": [
      "Dataset -> data_path:/media/mlfavorfit/sda/template_recommend_dataset/cluster_features_quantization/train_datas.json, num_of_data:69976\n",
      "Dataset -> data_path:/media/mlfavorfit/sda/template_recommend_dataset/cluster_features_quantization/val_datas.json, num_of_data:29991\n"
     ]
    }
   ],
   "source": [
    "train_dataset = EmbedDataset(data_json_path=\"/media/mlfavorfit/sda/template_recommend_dataset/cluster_features_quantization/train_datas.json\",\n",
    "                             label_json_path=\"/media/mlfavorfit/sda/template_recommend_dataset/cluster_features_quantization/train_labels.json\",\n",
    "                             encoder=encoder,\n",
    "                             device=\"cuda\")\n",
    "val_dataset = EmbedDataset(data_json_path=\"/media/mlfavorfit/sda/template_recommend_dataset/cluster_features_quantization/val_datas.json\",\n",
    "                             label_json_path=\"/media/mlfavorfit/sda/template_recommend_dataset/cluster_features_quantization/val_labels.json\",\n",
    "                             encoder=encoder,\n",
    "                             device=\"cuda\")\n",
    "# train_dataset = PalletDataset(data_json_path=\"/media/mlfavorfit/sda/template_recommend_dataset/cluster_features_quantization/train_pallet.json\", \n",
    "#                               label_json_path=\"/media/mlfavorfit/sda/template_recommend_dataset/cluster_features_quantization/train_labels.json\")\n",
    "# val_dataset = PalletDataset(data_json_path=\"/media/mlfavorfit/sda/template_recommend_dataset/cluster_features_quantization/val_pallet.json\", \n",
    "#                             label_json_path=\"/media/mlfavorfit/sda/template_recommend_dataset/cluster_features_quantization/val_labels.json\")\n",
    "\n",
    "train_loader = DataLoader(train_dataset, batch_size=16, shuffle=True, num_workers=16)\n",
    "val_loader = DataLoader(val_dataset, batch_size=16, shuffle=False, num_workers=16)"
   ]
  },
  {
   "cell_type": "code",
   "execution_count": 146,
   "metadata": {},
   "outputs": [],
   "source": [
    "# model = EmbedNet(256, 256, inter_num=3, hidden_dims=[128,64])\n",
    "# model = EmbedVAE(256, 256, latent_dim=64, inter_num=3, hidden_dims=[128,64])\n",
    "model = ResLinearNet(256, 12, hidden_dims=[256, 128, 64, 32])"
   ]
  },
  {
   "cell_type": "code",
   "execution_count": 147,
   "metadata": {},
   "outputs": [],
   "source": [
    "def train(model, epoch, loader, optimizer, criterion):\n",
    "    model.train()\n",
    "\n",
    "    running_loss = 0.0\n",
    "    for idx, (key, inputs, labels, weight_key) in tqdm(enumerate(loader), leave=False, desc=f\"Epoch:{epoch} train\", total=len(loader)):\n",
    "        inputs = inputs.to(\"cuda\")\n",
    "        labels = labels.to(\"cuda\")\n",
    "        \n",
    "        outputs = model(inputs)\n",
    "        # outputs, mu, logvar = model(inputs)\n",
    "        loss = criterion(outputs, labels, weight_key)\n",
    "        # loss = criterion(outputs, labels, mu, logvar)\n",
    "\n",
    "        optimizer.zero_grad()\n",
    "        loss.backward()\n",
    "        optimizer.step()\n",
    "\n",
    "        running_loss += loss.item()\n",
    "  \n",
    "    return running_loss/len(loader)*100\n",
    "    \n",
    "\n",
    "def val(model, epoch, loader, criterion):\n",
    "    model.eval()\n",
    "\n",
    "    running_loss = 0.0\n",
    "    with torch.no_grad():\n",
    "        for idx, (key, inputs, labels, weight_key) in tqdm(enumerate(loader), leave=False, desc=f\"Epoch:{epoch} val\", total=len(loader)):\n",
    "            inputs = inputs.to(\"cuda\")\n",
    "            labels = labels.to(\"cuda\")\n",
    "\n",
    "            outputs = model(inputs)\n",
    "            # outputs, mu, logvar = model(inputs)\n",
    "            loss = criterion(outputs, labels, weight_key)\n",
    "            # loss = criterion(outputs, labels, mu, logvar)\n",
    "            \n",
    "            running_loss += loss.item()\n",
    "\n",
    "    return running_loss/len(loader)*100"
   ]
  },
  {
   "cell_type": "code",
   "execution_count": 150,
   "metadata": {},
   "outputs": [],
   "source": [
    "import torch.nn.functional as F\n",
    "\n",
    "class MSEKLDLoss(nn.Module):\n",
    "    def __init__(self):\n",
    "        super().__init__()\n",
    "\n",
    "    def forward(self, recon_x, x, mu, logvar):\n",
    "        recon_loss = F.mse_loss(recon_x, x, reduction='mean')\n",
    "        kld_loss = -0.5 * torch.sum(1 + logvar - mu.pow(2) - logvar.exp())\n",
    "        \n",
    "        return recon_loss + kld_loss\n",
    "    \n",
    "class VarianceSensitiveMSELoss(nn.Module):\n",
    "    def __init__(self, gamma: float = 0.5) -> None:\n",
    "        super().__init__()\n",
    "        self.gamma = gamma\n",
    "\n",
    "    def forward(self, input, target):\n",
    "        i_colors = input.reshape(-1,4,4)[:,:,:3].reshape(-1,12)\n",
    "        # hue__val_i_colors = input.reshape(-1,4,4)[:,:,[0,2]].reshape(-1,8)\n",
    "        # hue__val_t_colors = target.reshape(-1,4,4)[:,:,[0,2]].reshape(-1,8)\n",
    "\n",
    "        mse_loss = F.mse_loss(input, target)\n",
    "        # hv_loss = F.mse_loss(hue__val_i_colors, hue__val_t_colors)\n",
    "\n",
    "        variance_color = torch.var(i_colors, dim=1).mean()\n",
    "        variance_batch = torch.var(i_colors, dim=0).mean()\n",
    "        \n",
    "        # vc_loss = self.gamma *(3/torch.exp(0.5*variance_color)+0.00001)\n",
    "        # vb_loss = self.gamma *(3/torch.exp(0.5*variance_batch)+0.00001)\n",
    "        vc_loss = self.gamma *(20/torch.exp(5*variance_color)+0.00001)\n",
    "        vb_loss = self.gamma *(20/torch.exp(5*variance_batch)+0.00001)\n",
    "        # vc_loss = -self.gamma*variance_color + self.gamma/2\n",
    "        # vb_loss = -self.gamma*variance_batch + self.gamma/2\n",
    "\n",
    "        return mse_loss + vc_loss + vb_loss # + hv_loss\n",
    "    \n",
    "class WeightedHuberLoss(nn.Module):\n",
    "    def __init__(self, delta=1.0):\n",
    "        super(WeightedHuberLoss, self).__init__()\n",
    "\n",
    "        with open(\"./main_color_weights_map.json\", mode=\"r\") as f:\n",
    "            weights_map = json.load(f)\n",
    "            self.weights_map ={cur:1/weights_map[cur] for cur in weights_map}\n",
    "        self.delta = delta\n",
    "\n",
    "    def calculate_cos_similarity(target, data_arr):\n",
    "        target = np.array(target) / np.linalg.norm(target)\n",
    "        data_arr = np.array(data_arr) / np.linalg.norm(data_arr, axis=1)[:,None]\n",
    "        cos_sim = np.matmul(target, data_arr.T)[0]\n",
    "\n",
    "        cos_sim[np.isnan(cos_sim)] = 0\n",
    "        return cos_sim\n",
    "\n",
    "    def forward(self, y_true, y_pred, weights_key):\n",
    "        weights = torch.FloatTensor([[[self.weights_map[key]] for key in t] for t in weights_key])\n",
    "        weights = torch.cat([weights,weights,weights], dim=1).reshape(-1,12).to(\"cuda\")\n",
    "        residual = torch.abs(y_true - y_pred)\n",
    "        huber_loss = torch.where(residual < self.delta,\n",
    "                                 0.5 * residual ** 2,\n",
    "                                 self.delta * (residual - 0.5 * self.delta))\n",
    "        weighted_huber_loss = huber_loss * (weights)\n",
    "\n",
    "        return torch.mean(weighted_huber_loss)"
   ]
  },
  {
   "cell_type": "code",
   "execution_count": 151,
   "metadata": {},
   "outputs": [
    {
     "name": "stderr",
     "output_type": "stream",
     "text": [
      "                                                                   "
     ]
    },
    {
     "name": "stdout",
     "output_type": "stream",
     "text": [
      "\n",
      "***Epoch: 0***\n",
      "train_loss: 839.5220003718921\n",
      "val_loss: 854.7278896204631\n",
      "cur_lr: 1e-08\n",
      "\n"
     ]
    },
    {
     "name": "stderr",
     "output_type": "stream",
     "text": [
      "                                                                   "
     ]
    },
    {
     "name": "stdout",
     "output_type": "stream",
     "text": [
      "\n",
      "***Epoch: 1***\n",
      "train_loss: 842.9077095591865\n",
      "val_loss: 860.7512247339886\n",
      "cur_lr: 0.00033334\n",
      "\n"
     ]
    },
    {
     "name": "stderr",
     "output_type": "stream",
     "text": [
      "                                                                   "
     ]
    },
    {
     "name": "stdout",
     "output_type": "stream",
     "text": [
      "\n",
      "***Epoch: 2***\n",
      "train_loss: 842.195765627101\n",
      "val_loss: 856.3752764256795\n",
      "cur_lr: 0.0006666700000000001\n",
      "\n"
     ]
    },
    {
     "name": "stderr",
     "output_type": "stream",
     "text": [
      "                                                                   "
     ]
    },
    {
     "name": "stdout",
     "output_type": "stream",
     "text": [
      "\n",
      "***Epoch: 3***\n",
      "train_loss: 847.3332027812281\n",
      "val_loss: 861.0902151298524\n",
      "cur_lr: 0.001\n",
      "\n"
     ]
    },
    {
     "name": "stderr",
     "output_type": "stream",
     "text": [
      "                                                                   "
     ]
    },
    {
     "name": "stdout",
     "output_type": "stream",
     "text": [
      "\n",
      "***Epoch: 4***\n",
      "train_loss: 843.2822872036714\n",
      "val_loss: 863.1713615671794\n",
      "cur_lr: 0.0009504849291068701\n",
      "\n"
     ]
    },
    {
     "name": "stderr",
     "output_type": "stream",
     "text": [
      "                                                                   "
     ]
    },
    {
     "name": "stdout",
     "output_type": "stream",
     "text": [
      "\n",
      "***Epoch: 5***\n",
      "train_loss: 843.8076897413152\n",
      "val_loss: 858.789822654724\n",
      "cur_lr: 0.0008117467834803576\n",
      "\n"
     ]
    },
    {
     "name": "stderr",
     "output_type": "stream",
     "text": [
      "                                                                   "
     ]
    },
    {
     "name": "stdout",
     "output_type": "stream",
     "text": [
      "\n",
      "***Epoch: 6***\n",
      "train_loss: 842.9426386495894\n",
      "val_loss: 852.8631490325928\n",
      "cur_lr: 0.0006112643543734875\n",
      "\n"
     ]
    },
    {
     "name": "stderr",
     "output_type": "stream",
     "text": [
      "                                                                   "
     ]
    },
    {
     "name": "stdout",
     "output_type": "stream",
     "text": [
      "\n",
      "***Epoch: 7***\n",
      "train_loss: 839.3256025495298\n",
      "val_loss: 853.9067956606547\n",
      "cur_lr: 0.0003887456456265126\n",
      "\n"
     ]
    },
    {
     "name": "stderr",
     "output_type": "stream",
     "text": [
      "                                                                   "
     ]
    },
    {
     "name": "stdout",
     "output_type": "stream",
     "text": [
      "\n",
      "***Epoch: 8***\n",
      "train_loss: 838.8876496301048\n",
      "val_loss: 850.340324751536\n",
      "cur_lr: 0.00018826321651964256\n",
      "\n"
     ]
    },
    {
     "name": "stderr",
     "output_type": "stream",
     "text": [
      "                                                                   "
     ]
    },
    {
     "name": "stdout",
     "output_type": "stream",
     "text": [
      "\n",
      "***Epoch: 9***\n",
      "train_loss: 834.2010022408896\n",
      "val_loss: 849.0334414291383\n",
      "cur_lr: 4.952507089313e-05\n",
      "\n"
     ]
    },
    {
     "name": "stderr",
     "output_type": "stream",
     "text": [
      "                                                                    "
     ]
    },
    {
     "name": "stdout",
     "output_type": "stream",
     "text": [
      "\n",
      "***Epoch: 10***\n",
      "train_loss: 834.600013524471\n",
      "val_loss: 849.0326376978556\n",
      "cur_lr: 1e-08\n",
      "\n"
     ]
    },
    {
     "name": "stderr",
     "output_type": "stream",
     "text": [
      "                                                                    "
     ]
    },
    {
     "name": "stdout",
     "output_type": "stream",
     "text": [
      "\n",
      "***Epoch: 11***\n",
      "train_loss: 832.2757293685255\n",
      "val_loss: 850.9141128158569\n",
      "cur_lr: 0.00016667333333333332\n",
      "\n"
     ]
    },
    {
     "name": "stderr",
     "output_type": "stream",
     "text": [
      "                                                                    "
     ]
    },
    {
     "name": "stdout",
     "output_type": "stream",
     "text": [
      "\n",
      "***Epoch: 12***\n",
      "train_loss: 835.9702047933222\n",
      "val_loss: 850.3778407796224\n",
      "cur_lr: 0.00033333666666666664\n",
      "\n"
     ]
    },
    {
     "name": "stderr",
     "output_type": "stream",
     "text": [
      "                                                                    "
     ]
    },
    {
     "name": "stdout",
     "output_type": "stream",
     "text": [
      "\n",
      "***Epoch: 13***\n",
      "train_loss: 839.8325056832405\n",
      "val_loss: 852.3022554651897\n",
      "cur_lr: 0.0005\n",
      "\n"
     ]
    },
    {
     "name": "stderr",
     "output_type": "stream",
     "text": [
      "                                                                    "
     ]
    },
    {
     "name": "stdout",
     "output_type": "stream",
     "text": [
      "\n",
      "***Epoch: 14***\n",
      "train_loss: 836.652309152161\n",
      "val_loss: 849.9496786880494\n",
      "cur_lr: 0.0004937321034058949\n",
      "\n"
     ]
    },
    {
     "name": "stderr",
     "output_type": "stream",
     "text": [
      "                                                                    "
     ]
    },
    {
     "name": "stdout",
     "output_type": "stream",
     "text": [
      "\n",
      "***Epoch: 15***\n",
      "train_loss: 835.305470716043\n",
      "val_loss: 850.5471445274352\n",
      "cur_lr: 0.0004752427121312652\n",
      "\n"
     ]
    },
    {
     "name": "stderr",
     "output_type": "stream",
     "text": [
      "                                                                    "
     ]
    },
    {
     "name": "stdout",
     "output_type": "stream",
     "text": [
      "\n",
      "***Epoch: 16***\n",
      "train_loss: 835.9910078690812\n",
      "val_loss: 850.8226882743836\n",
      "cur_lr: 0.0004454589614595951\n",
      "\n"
     ]
    },
    {
     "name": "stderr",
     "output_type": "stream",
     "text": [
      "                                                                    "
     ]
    },
    {
     "name": "stdout",
     "output_type": "stream",
     "text": [
      "\n",
      "***Epoch: 17***\n",
      "train_loss: 832.5831183817052\n",
      "val_loss: 847.6059150187174\n",
      "cur_lr: 0.0004058743330156741\n",
      "\n"
     ]
    },
    {
     "name": "stderr",
     "output_type": "stream",
     "text": [
      "                                                                    "
     ]
    },
    {
     "name": "stdout",
     "output_type": "stream",
     "text": [
      "\n",
      "***Epoch: 18***\n",
      "train_loss: 833.2521479534241\n",
      "val_loss: 847.4620736122132\n",
      "cur_lr: 0.00035847376536069387\n",
      "\n"
     ]
    },
    {
     "name": "stderr",
     "output_type": "stream",
     "text": [
      "                                                                    "
     ]
    },
    {
     "name": "stdout",
     "output_type": "stream",
     "text": [
      "\n",
      "***Epoch: 19***\n",
      "train_loss: 833.7097496543784\n",
      "val_loss: 845.5409113121032\n",
      "cur_lr: 0.00030563412088440876\n",
      "\n"
     ]
    },
    {
     "name": "stderr",
     "output_type": "stream",
     "text": [
      "                                                                    "
     ]
    },
    {
     "name": "stdout",
     "output_type": "stream",
     "text": [
      "\n",
      "***Epoch: 20***\n",
      "train_loss: 827.5839349124658\n",
      "val_loss: 845.0149415270488\n",
      "cur_lr: 0.000250005\n",
      "\n"
     ]
    },
    {
     "name": "stderr",
     "output_type": "stream",
     "text": [
      "                                                                    "
     ]
    },
    {
     "name": "stdout",
     "output_type": "stream",
     "text": [
      "\n",
      "***Epoch: 21***\n",
      "train_loss: 829.738177504232\n",
      "val_loss: 845.7568266677857\n",
      "cur_lr: 0.00019437587911559116\n",
      "\n"
     ]
    },
    {
     "name": "stderr",
     "output_type": "stream",
     "text": [
      "                                                                    "
     ]
    },
    {
     "name": "stdout",
     "output_type": "stream",
     "text": [
      "\n",
      "***Epoch: 22***\n",
      "train_loss: 829.3431048040036\n",
      "val_loss: 843.1292111206055\n",
      "cur_lr: 0.00014153623463930605\n",
      "\n"
     ]
    },
    {
     "name": "stderr",
     "output_type": "stream",
     "text": [
      "                                                                    "
     ]
    },
    {
     "name": "stdout",
     "output_type": "stream",
     "text": [
      "\n",
      "***Epoch: 23***\n",
      "train_loss: 825.3070118686736\n",
      "val_loss: 845.499665590922\n",
      "cur_lr: 9.413566698432592e-05\n",
      "\n"
     ]
    },
    {
     "name": "stderr",
     "output_type": "stream",
     "text": [
      "                                                                    "
     ]
    },
    {
     "name": "stdout",
     "output_type": "stream",
     "text": [
      "\n",
      "***Epoch: 24***\n",
      "train_loss: 826.6880356317031\n",
      "val_loss: 843.358896414439\n",
      "cur_lr: 5.455103854040497e-05\n",
      "\n"
     ]
    },
    {
     "name": "stderr",
     "output_type": "stream",
     "text": [
      "                                                                    "
     ]
    },
    {
     "name": "stdout",
     "output_type": "stream",
     "text": [
      "\n",
      "***Epoch: 25***\n",
      "train_loss: 827.8884276059538\n",
      "val_loss: 842.5506027285257\n",
      "cur_lr: 2.476728786873475e-05\n",
      "\n"
     ]
    },
    {
     "name": "stderr",
     "output_type": "stream",
     "text": [
      "                                                                    "
     ]
    },
    {
     "name": "stdout",
     "output_type": "stream",
     "text": [
      "\n",
      "***Epoch: 26***\n",
      "train_loss: 829.5511043311583\n",
      "val_loss: 842.5988316218059\n",
      "cur_lr: 6.277896594104976e-06\n",
      "\n"
     ]
    },
    {
     "name": "stderr",
     "output_type": "stream",
     "text": [
      "                                                                    "
     ]
    },
    {
     "name": "stdout",
     "output_type": "stream",
     "text": [
      "\n",
      "***Epoch: 27***\n",
      "train_loss: 827.8394482099797\n",
      "val_loss: 842.5987333424887\n",
      "cur_lr: 1e-08\n",
      "\n"
     ]
    },
    {
     "name": "stderr",
     "output_type": "stream",
     "text": [
      "                                                                    "
     ]
    },
    {
     "name": "stdout",
     "output_type": "stream",
     "text": [
      "\n",
      "***Epoch: 28***\n",
      "train_loss: 826.9444056281119\n",
      "val_loss: 844.6604924647014\n",
      "cur_lr: 8.334e-05\n",
      "\n"
     ]
    },
    {
     "name": "stderr",
     "output_type": "stream",
     "text": [
      "                                                                    "
     ]
    },
    {
     "name": "stdout",
     "output_type": "stream",
     "text": [
      "\n",
      "***Epoch: 29***\n",
      "train_loss: 829.104772339578\n",
      "val_loss: 845.1535362434388\n",
      "cur_lr: 0.00016667\n",
      "\n"
     ]
    },
    {
     "name": "stderr",
     "output_type": "stream",
     "text": [
      "                                                                    "
     ]
    },
    {
     "name": "stdout",
     "output_type": "stream",
     "text": [
      "\n",
      "***Epoch: 30***\n",
      "train_loss: 826.8729773650281\n",
      "val_loss: 845.2813528696696\n",
      "cur_lr: 0.00025\n",
      "\n"
     ]
    },
    {
     "name": "stderr",
     "output_type": "stream",
     "text": [
      "                                                                    "
     ]
    },
    {
     "name": "stdout",
     "output_type": "stream",
     "text": [
      "\n",
      "***Epoch: 31***\n",
      "train_loss: 828.6297531939011\n",
      "val_loss: 845.724665883382\n",
      "cur_lr: 0.00024921405767560587\n",
      "\n"
     ]
    },
    {
     "name": "stderr",
     "output_type": "stream",
     "text": [
      "                                                                    "
     ]
    },
    {
     "name": "stdout",
     "output_type": "stream",
     "text": [
      "\n",
      "***Epoch: 32***\n",
      "train_loss: 828.7178627911582\n",
      "val_loss: 849.651392141978\n",
      "cur_lr: 0.00024686611438316705\n",
      "\n"
     ]
    },
    {
     "name": "stderr",
     "output_type": "stream",
     "text": [
      "                                                                    "
     ]
    },
    {
     "name": "stdout",
     "output_type": "stream",
     "text": [
      "\n",
      "***Epoch: 33***\n",
      "train_loss: 828.8524692277687\n",
      "val_loss: 845.2498347727458\n",
      "cur_lr: 0.0002429856968718944\n",
      "\n"
     ]
    },
    {
     "name": "stderr",
     "output_type": "stream",
     "text": [
      "                                                                    "
     ]
    },
    {
     "name": "stdout",
     "output_type": "stream",
     "text": [
      "\n",
      "***Epoch: 34***\n",
      "train_loss: 829.5485295276965\n",
      "val_loss: 848.2472765604655\n",
      "cur_lr: 0.00023762160364346286\n",
      "\n"
     ]
    },
    {
     "name": "stderr",
     "output_type": "stream",
     "text": [
      "                                                                    "
     ]
    },
    {
     "name": "stdout",
     "output_type": "stream",
     "text": [
      "\n",
      "***Epoch: 35***\n",
      "train_loss: 828.4359454836101\n",
      "val_loss: 844.8706875483194\n",
      "cur_lr: 0.00023084129128253937\n",
      "\n"
     ]
    },
    {
     "name": "stderr",
     "output_type": "stream",
     "text": [
      "                                                                    "
     ]
    },
    {
     "name": "stdout",
     "output_type": "stream",
     "text": [
      "\n",
      "***Epoch: 36***\n",
      "train_loss: 828.5255058639171\n",
      "val_loss: 843.0876594734192\n",
      "cur_lr: 0.00022273002615109141\n",
      "\n"
     ]
    },
    {
     "name": "stderr",
     "output_type": "stream",
     "text": [
      "                                                                    "
     ]
    },
    {
     "name": "stdout",
     "output_type": "stream",
     "text": [
      "\n",
      "***Epoch: 37***\n",
      "train_loss: 825.9023091484544\n",
      "val_loss: 844.8306616338094\n",
      "cur_lr: 0.0002133898121144125\n",
      "\n"
     ]
    },
    {
     "name": "stderr",
     "output_type": "stream",
     "text": [
      "                                                                    "
     ]
    },
    {
     "name": "stdout",
     "output_type": "stream",
     "text": [
      "\n",
      "***Epoch: 38***\n",
      "train_loss: 826.7481672284154\n",
      "val_loss: 844.8296969985963\n",
      "cur_lr: 0.00020293810778333242\n",
      "\n"
     ]
    },
    {
     "name": "stderr",
     "output_type": "stream",
     "text": [
      "                                                                    "
     ]
    },
    {
     "name": "stdout",
     "output_type": "stream",
     "text": [
      "\n",
      "***Epoch: 39***\n",
      "train_loss: 827.8188949831556\n",
      "val_loss: 846.8552357673644\n",
      "cur_lr: 0.0001915063494040345\n",
      "\n"
     ]
    },
    {
     "name": "stderr",
     "output_type": "stream",
     "text": [
      "                                                                    "
     ]
    },
    {
     "name": "stdout",
     "output_type": "stream",
     "text": [
      "\n",
      "***Epoch: 40***\n",
      "train_loss: 827.1135594864442\n",
      "val_loss: 845.2725190798441\n",
      "cur_lr: 0.00017923829797099916\n",
      "\n"
     ]
    },
    {
     "name": "stderr",
     "output_type": "stream",
     "text": [
      "                                                                    "
     ]
    },
    {
     "name": "stdout",
     "output_type": "stream",
     "text": [
      "\n",
      "***Epoch: 41***\n",
      "train_loss: 824.2110231967075\n",
      "val_loss: 844.8947433662415\n",
      "cur_lr: 0.00016628823134908613\n",
      "\n"
     ]
    },
    {
     "name": "stderr",
     "output_type": "stream",
     "text": [
      "                                                                    "
     ]
    },
    {
     "name": "stdout",
     "output_type": "stream",
     "text": [
      "\n",
      "***Epoch: 42***\n",
      "train_loss: 825.5890580225491\n",
      "val_loss: 846.8105479303995\n",
      "cur_lr: 0.00015281900413986952\n",
      "\n"
     ]
    },
    {
     "name": "stderr",
     "output_type": "stream",
     "text": [
      "                                                                    "
     ]
    },
    {
     "name": "stdout",
     "output_type": "stream",
     "text": [
      "\n",
      "***Epoch: 43***\n",
      "train_loss: 823.3835800548749\n",
      "val_loss: 843.487953484853\n",
      "cur_lr: 0.00013899999969053294\n",
      "\n"
     ]
    },
    {
     "name": "stderr",
     "output_type": "stream",
     "text": [
      "                                                                    "
     ]
    },
    {
     "name": "stdout",
     "output_type": "stream",
     "text": [
      "\n",
      "***Epoch: 44***\n",
      "train_loss: 822.1592885830875\n",
      "val_loss: 842.1995806884765\n",
      "cur_lr: 0.000125005\n",
      "\n"
     ]
    },
    {
     "name": "stderr",
     "output_type": "stream",
     "text": [
      "                                                                    "
     ]
    },
    {
     "name": "stdout",
     "output_type": "stream",
     "text": [
      "\n",
      "***Epoch: 45***\n",
      "train_loss: 821.2293237570382\n",
      "val_loss: 842.2161718114218\n",
      "cur_lr: 0.00011101000030946706\n",
      "\n"
     ]
    },
    {
     "name": "stderr",
     "output_type": "stream",
     "text": [
      "                                                                    "
     ]
    },
    {
     "name": "stdout",
     "output_type": "stream",
     "text": [
      "\n",
      "***Epoch: 46***\n",
      "train_loss: 821.553211720174\n",
      "val_loss: 845.5426391537983\n",
      "cur_lr: 9.71909958601305e-05\n",
      "\n"
     ]
    },
    {
     "name": "stderr",
     "output_type": "stream",
     "text": [
      "                                                                    "
     ]
    },
    {
     "name": "stdout",
     "output_type": "stream",
     "text": [
      "\n",
      "***Epoch: 47***\n",
      "train_loss: 820.3850021687174\n",
      "val_loss: 842.3815231704712\n",
      "cur_lr: 8.372176865091387e-05\n",
      "\n"
     ]
    },
    {
     "name": "stderr",
     "output_type": "stream",
     "text": [
      "                                                                    \r"
     ]
    },
    {
     "name": "stdout",
     "output_type": "stream",
     "text": [
      "\n",
      "***Epoch: 48***\n",
      "train_loss: 821.8803422768257\n",
      "val_loss: 844.4626654815673\n",
      "cur_lr: 7.077170202900083e-05\n",
      "\n"
     ]
    },
    {
     "name": "stderr",
     "output_type": "stream",
     "text": [
      "                                                                    "
     ]
    },
    {
     "name": "stdout",
     "output_type": "stream",
     "text": [
      "\n",
      "***Epoch: 49***\n",
      "train_loss: 821.5935050187505\n",
      "val_loss: 842.9614002418518\n",
      "cur_lr: 5.850365059596552e-05\n",
      "\n"
     ]
    },
    {
     "name": "stderr",
     "output_type": "stream",
     "text": [
      "                                                                    "
     ]
    },
    {
     "name": "stdout",
     "output_type": "stream",
     "text": [
      "\n",
      "***Epoch: 50***\n",
      "train_loss: 817.8858313786149\n",
      "val_loss: 842.9022108586629\n",
      "cur_lr: 4.707189221666761e-05\n",
      "\n"
     ]
    },
    {
     "name": "stderr",
     "output_type": "stream",
     "text": [
      "                                                                    "
     ]
    },
    {
     "name": "stdout",
     "output_type": "stream",
     "text": [
      "\n",
      "***Epoch: 51***\n",
      "train_loss: 818.930843209479\n",
      "val_loss: 842.350022500356\n",
      "cur_lr: 3.6620187885587505e-05\n",
      "\n"
     ]
    },
    {
     "name": "stderr",
     "output_type": "stream",
     "text": [
      "                                                                    "
     ]
    },
    {
     "name": "stdout",
     "output_type": "stream",
     "text": [
      "\n",
      "***Epoch: 52***\n",
      "train_loss: 819.9013534860084\n",
      "val_loss: 842.3704529253642\n",
      "cur_lr: 2.727997384890866e-05\n",
      "\n"
     ]
    },
    {
     "name": "stderr",
     "output_type": "stream",
     "text": [
      "                                                                    "
     ]
    },
    {
     "name": "stdout",
     "output_type": "stream",
     "text": [
      "\n",
      "***Epoch: 53***\n",
      "train_loss: 820.5498998084458\n",
      "val_loss: 842.4352625656129\n",
      "cur_lr: 1.9168708717460627e-05\n",
      "\n"
     ]
    },
    {
     "name": "stderr",
     "output_type": "stream",
     "text": [
      "                                                                    "
     ]
    },
    {
     "name": "stdout",
     "output_type": "stream",
     "text": [
      "\n",
      "***Epoch: 54***\n",
      "train_loss: 818.6167113220632\n",
      "val_loss: 842.4909125010172\n",
      "cur_lr: 1.2388396356537134e-05\n",
      "\n"
     ]
    },
    {
     "name": "stderr",
     "output_type": "stream",
     "text": [
      "                                                                    "
     ]
    },
    {
     "name": "stdout",
     "output_type": "stream",
     "text": [
      "\n",
      "***Epoch: 55***\n",
      "train_loss: 815.9638850368426\n",
      "val_loss: 842.4868203226727\n",
      "cur_lr: 7.0243031281055955e-06\n",
      "\n"
     ]
    },
    {
     "name": "stderr",
     "output_type": "stream",
     "text": [
      "                                                                    "
     ]
    },
    {
     "name": "stdout",
     "output_type": "stream",
     "text": [
      "\n",
      "***Epoch: 56***\n",
      "train_loss: 817.986175749037\n",
      "val_loss: 842.302827606201\n",
      "cur_lr: 3.143885616832943e-06\n",
      "\n"
     ]
    },
    {
     "name": "stderr",
     "output_type": "stream",
     "text": [
      "                                                                    \r"
     ]
    },
    {
     "name": "stdout",
     "output_type": "stream",
     "text": [
      "\n",
      "***Epoch: 57***\n",
      "train_loss: 818.4844789572596\n",
      "val_loss: 842.2644783465067\n",
      "cur_lr: 7.959423243941407e-07\n",
      "\n"
     ]
    },
    {
     "name": "stderr",
     "output_type": "stream",
     "text": [
      "                                                                    "
     ]
    },
    {
     "name": "stdout",
     "output_type": "stream",
     "text": [
      "\n",
      "***Epoch: 58***\n",
      "train_loss: 818.8876901988739\n",
      "val_loss: 842.2647179476421\n",
      "cur_lr: 1e-08\n",
      "\n"
     ]
    },
    {
     "name": "stderr",
     "output_type": "stream",
     "text": [
      "                                                                    "
     ]
    },
    {
     "name": "stdout",
     "output_type": "stream",
     "text": [
      "\n",
      "***Epoch: 59***\n",
      "train_loss: 820.0782283234389\n",
      "val_loss: 842.4752733230591\n",
      "cur_lr: 4.167333333333334e-05\n",
      "\n"
     ]
    },
    {
     "name": "stderr",
     "output_type": "stream",
     "text": [
      "                                                                    "
     ]
    },
    {
     "name": "stdout",
     "output_type": "stream",
     "text": [
      "\n",
      "***Epoch: 60***\n",
      "train_loss: 819.1921914583153\n",
      "val_loss: 843.5473521296183\n",
      "cur_lr: 8.333666666666667e-05\n",
      "\n"
     ]
    },
    {
     "name": "stderr",
     "output_type": "stream",
     "text": [
      "                                                                    "
     ]
    },
    {
     "name": "stdout",
     "output_type": "stream",
     "text": [
      "\n",
      "***Epoch: 61***\n",
      "train_loss: 823.3710683286054\n",
      "val_loss: 844.5365215937297\n",
      "cur_lr: 0.000125\n",
      "\n"
     ]
    },
    {
     "name": "stderr",
     "output_type": "stream",
     "text": [
      "                                                                    "
     ]
    },
    {
     "name": "stdout",
     "output_type": "stream",
     "text": [
      "\n",
      "***Epoch: 62***\n",
      "train_loss: 821.7507148557565\n",
      "val_loss: 843.1504744784038\n",
      "cur_lr: 0.00012490168380453845\n",
      "\n"
     ]
    },
    {
     "name": "stderr",
     "output_type": "stream",
     "text": [
      "                                                                    "
     ]
    },
    {
     "name": "stdout",
     "output_type": "stream",
     "text": [
      "\n",
      "***Epoch: 63***\n",
      "train_loss: 818.8701722874836\n",
      "val_loss: 844.1517477226258\n",
      "cur_lr: 0.00012460704455727822\n",
      "\n"
     ]
    },
    {
     "name": "stderr",
     "output_type": "stream",
     "text": [
      "                                                                    "
     ]
    },
    {
     "name": "stdout",
     "output_type": "stream",
     "text": [
      "\n",
      "***Epoch: 64***\n",
      "train_loss: 820.6034033904622\n",
      "val_loss: 842.5672165171304\n",
      "cur_lr: 0.00012411700930229714\n",
      "\n"
     ]
    },
    {
     "name": "stderr",
     "output_type": "stream",
     "text": [
      "                                                                    "
     ]
    },
    {
     "name": "stdout",
     "output_type": "stream",
     "text": [
      "\n",
      "***Epoch: 65***\n",
      "train_loss: 819.872280457928\n",
      "val_loss: 843.8737389691671\n",
      "cur_lr: 0.00012343311987180307\n",
      "\n"
     ]
    },
    {
     "name": "stderr",
     "output_type": "stream",
     "text": [
      "                                                                    "
     ]
    },
    {
     "name": "stdout",
     "output_type": "stream",
     "text": [
      "\n",
      "***Epoch: 66***\n",
      "train_loss: 818.6365036180589\n",
      "val_loss: 844.2484839566548\n",
      "cur_lr: 0.00012255752803495902\n",
      "\n"
     ]
    },
    {
     "name": "stderr",
     "output_type": "stream",
     "text": [
      "                                                                    "
     ]
    },
    {
     "name": "stdout",
     "output_type": "stream",
     "text": [
      "\n",
      "***Epoch: 67***\n",
      "train_loss: 818.942427924086\n",
      "val_loss: 842.0429932594299\n",
      "cur_lr: 0.00012149298872762143\n",
      "\n"
     ]
    },
    {
     "name": "stderr",
     "output_type": "stream",
     "text": [
      "                                                                    "
     ]
    },
    {
     "name": "stdout",
     "output_type": "stream",
     "text": [
      "\n",
      "***Epoch: 68***\n",
      "train_loss: 820.3287322552825\n",
      "val_loss: 844.971628519694\n",
      "cur_lr: 0.00012024285138429286\n",
      "\n"
     ]
    },
    {
     "name": "stderr",
     "output_type": "stream",
     "text": [
      "                                                                    "
     ]
    },
    {
     "name": "stdout",
     "output_type": "stream",
     "text": [
      "\n",
      "***Epoch: 69***\n",
      "train_loss: 819.9941091058895\n",
      "val_loss: 844.9283577537537\n",
      "cur_lr: 0.00011881104939956168\n",
      "\n"
     ]
    },
    {
     "name": "stderr",
     "output_type": "stream",
     "text": [
      "                                                                    "
     ]
    },
    {
     "name": "stdout",
     "output_type": "stream",
     "text": [
      "\n",
      "***Epoch: 70***\n",
      "train_loss: 816.3512098309544\n",
      "val_loss: 844.2557140223184\n",
      "cur_lr: 0.00011720208775218758\n",
      "\n"
     ]
    },
    {
     "name": "stderr",
     "output_type": "stream",
     "text": [
      "                                                                    "
     ]
    },
    {
     "name": "stdout",
     "output_type": "stream",
     "text": [
      "\n",
      "***Epoch: 71***\n",
      "train_loss: 818.3208653138662\n",
      "val_loss: 842.2861582438151\n",
      "cur_lr: 0.00011542102883077162\n",
      "\n"
     ]
    },
    {
     "name": "stderr",
     "output_type": "stream",
     "text": [
      "                                                                    "
     ]
    },
    {
     "name": "stdout",
     "output_type": "stream",
     "text": [
      "\n",
      "***Epoch: 72***\n",
      "train_loss: 819.2672808774269\n",
      "val_loss: 843.3970861307779\n",
      "cur_lr: 0.00011347347650560897\n",
      "\n"
     ]
    },
    {
     "name": "stderr",
     "output_type": "stream",
     "text": [
      "                                                                    "
     ]
    },
    {
     "name": "stdout",
     "output_type": "stream",
     "text": [
      "\n",
      "***Epoch: 73***\n",
      "train_loss: 820.2585813330905\n",
      "val_loss: 845.2100510533651\n",
      "cur_lr: 0.00011136555849683953\n",
      "\n"
     ]
    },
    {
     "name": "stderr",
     "output_type": "stream",
     "text": [
      "                                                                    "
     ]
    },
    {
     "name": "stdout",
     "output_type": "stream",
     "text": [
      "\n",
      "***Epoch: 74***\n",
      "train_loss: 816.4899526173305\n",
      "val_loss: 842.7541994857788\n",
      "cur_lr: 0.00010910390709437343\n",
      "\n"
     ]
    },
    {
     "name": "stderr",
     "output_type": "stream",
     "text": [
      "                                                                    "
     ]
    },
    {
     "name": "stdout",
     "output_type": "stream",
     "text": [
      "\n",
      "***Epoch: 75***\n",
      "train_loss: 818.3327084052056\n",
      "val_loss: 843.8441828473408\n",
      "cur_lr: 0.00010669563829025329\n",
      "\n"
     ]
    },
    {
     "name": "stderr",
     "output_type": "stream",
     "text": [
      "                                                                    "
     ]
    },
    {
     "name": "stdout",
     "output_type": "stream",
     "text": [
      "\n",
      "***Epoch: 76***\n",
      "train_loss: 819.281368769082\n",
      "val_loss: 842.8771425056457\n",
      "cur_lr: 0.00010414832938911049\n",
      "\n"
     ]
    },
    {
     "name": "stderr",
     "output_type": "stream",
     "text": [
      "                                                                    "
     ]
    },
    {
     "name": "stdout",
     "output_type": "stream",
     "text": [
      "\n",
      "***Epoch: 77***\n",
      "train_loss: 817.6250233680731\n",
      "val_loss: 842.9897627385458\n",
      "cur_lr: 0.00010146999516716155\n",
      "\n"
     ]
    },
    {
     "name": "stderr",
     "output_type": "stream",
     "text": [
      "                                                                    "
     ]
    },
    {
     "name": "stdout",
     "output_type": "stream",
     "text": [
      "\n",
      "***Epoch: 78***\n",
      "train_loss: 818.4591312603586\n",
      "val_loss: 844.2858121617635\n",
      "cur_lr: 9.866906265475697e-05\n",
      "\n"
     ]
    },
    {
     "name": "stderr",
     "output_type": "stream",
     "text": [
      "                                                                    "
     ]
    },
    {
     "name": "stdout",
     "output_type": "stream",
     "text": [
      "\n",
      "***Epoch: 79***\n",
      "train_loss: 818.1065452469502\n",
      "val_loss: 843.620398902893\n",
      "cur_lr: 9.575434462182595e-05\n",
      "\n"
     ]
    },
    {
     "name": "stderr",
     "output_type": "stream",
     "text": [
      "                                                                    "
     ]
    },
    {
     "name": "stdout",
     "output_type": "stream",
     "text": [
      "\n",
      "***Epoch: 80***\n",
      "train_loss: 819.0055791160861\n",
      "val_loss: 841.6664813359578\n",
      "cur_lr: 9.273501184964197e-05\n",
      "\n"
     ]
    },
    {
     "name": "stderr",
     "output_type": "stream",
     "text": [
      "                                                                    "
     ]
    },
    {
     "name": "stdout",
     "output_type": "stream",
     "text": [
      "\n",
      "***Epoch: 81***\n",
      "train_loss: 816.8229086054588\n",
      "val_loss: 842.6699933052064\n",
      "cur_lr: 8.962056427615179e-05\n",
      "\n"
     ]
    },
    {
     "name": "stderr",
     "output_type": "stream",
     "text": [
      "                                                                    "
     ]
    },
    {
     "name": "stdout",
     "output_type": "stream",
     "text": [
      "\n",
      "***Epoch: 82***\n",
      "train_loss: 815.0640756532271\n",
      "val_loss: 843.1214390309652\n",
      "cur_lr: 8.642080110565629e-05\n",
      "\n"
     ]
    },
    {
     "name": "stderr",
     "output_type": "stream",
     "text": [
      "                                                                    "
     ]
    },
    {
     "name": "stdout",
     "output_type": "stream",
     "text": [
      "\n",
      "***Epoch: 83***\n",
      "train_loss: 813.8145698277874\n",
      "val_loss: 842.7149248377482\n",
      "cur_lr: 8.314578997688818e-05\n",
      "\n"
     ]
    },
    {
     "name": "stderr",
     "output_type": "stream",
     "text": [
      "                                                                    "
     ]
    },
    {
     "name": "stdout",
     "output_type": "stream",
     "text": [
      "\n",
      "***Epoch: 84***\n",
      "train_loss: 814.1153392559543\n",
      "val_loss: 843.7031227111817\n",
      "cur_lr: 7.980583528649596e-05\n",
      "\n"
     ]
    },
    {
     "name": "stderr",
     "output_type": "stream",
     "text": [
      "                                                                    "
     ]
    },
    {
     "name": "stdout",
     "output_type": "stream",
     "text": [
      "\n",
      "***Epoch: 85***\n",
      "train_loss: 814.2742183146327\n",
      "val_loss: 843.4420186551412\n",
      "cur_lr: 7.641144576759986e-05\n",
      "\n"
     ]
    },
    {
     "name": "stderr",
     "output_type": "stream",
     "text": [
      "                                                                    "
     ]
    },
    {
     "name": "stdout",
     "output_type": "stream",
     "text": [
      "\n",
      "***Epoch: 86***\n",
      "train_loss: 811.3004295668976\n",
      "val_loss: 842.9339469210307\n",
      "cur_lr: 7.29733014254295e-05\n",
      "\n"
     ]
    },
    {
     "name": "stderr",
     "output_type": "stream",
     "text": [
      "                                                                    "
     ]
    },
    {
     "name": "stdout",
     "output_type": "stream",
     "text": [
      "\n",
      "***Epoch: 87***\n",
      "train_loss: 814.4624786966731\n",
      "val_loss: 843.9219609896343\n",
      "cur_lr: 6.950221993407621e-05\n",
      "\n"
     ]
    },
    {
     "name": "stderr",
     "output_type": "stream",
     "text": [
      "                                                                    "
     ]
    },
    {
     "name": "stdout",
     "output_type": "stream",
     "text": [
      "\n",
      "***Epoch: 88***\n",
      "train_loss: 810.5235870183195\n",
      "val_loss: 843.3479012298584\n",
      "cur_lr: 6.60091226000883e-05\n",
      "\n"
     ]
    },
    {
     "name": "stderr",
     "output_type": "stream",
     "text": [
      "                                                                    "
     ]
    },
    {
     "name": "stdout",
     "output_type": "stream",
     "text": [
      "\n",
      "***Epoch: 89***\n",
      "train_loss: 812.201126830786\n",
      "val_loss: 842.3247231356303\n",
      "cur_lr: 6.2505e-05\n",
      "\n"
     ]
    },
    {
     "name": "stderr",
     "output_type": "stream",
     "text": [
      "                                                                    "
     ]
    },
    {
     "name": "stdout",
     "output_type": "stream",
     "text": [
      "\n",
      "***Epoch: 90***\n",
      "train_loss: 811.3091588320119\n",
      "val_loss: 842.7797080103555\n",
      "cur_lr: 5.900087739991171e-05\n",
      "\n"
     ]
    },
    {
     "name": "stderr",
     "output_type": "stream",
     "text": [
      "                                                                    "
     ]
    },
    {
     "name": "stdout",
     "output_type": "stream",
     "text": [
      "\n",
      "***Epoch: 91***\n",
      "train_loss: 813.3073537029193\n",
      "val_loss: 842.986203358968\n",
      "cur_lr: 5.55077800659238e-05\n",
      "\n"
     ]
    },
    {
     "name": "stderr",
     "output_type": "stream",
     "text": [
      "                                                                    "
     ]
    },
    {
     "name": "stdout",
     "output_type": "stream",
     "text": [
      "\n",
      "***Epoch: 92***\n",
      "train_loss: 812.7521831339552\n",
      "val_loss: 842.115009988149\n",
      "cur_lr: 5.203669857457051e-05\n",
      "\n"
     ]
    },
    {
     "name": "stderr",
     "output_type": "stream",
     "text": [
      "                                                                    "
     ]
    },
    {
     "name": "stdout",
     "output_type": "stream",
     "text": [
      "\n",
      "***Epoch: 93***\n",
      "train_loss: 812.1737738722908\n",
      "val_loss: 843.6267262649537\n",
      "cur_lr: 4.859855423240014e-05\n",
      "\n"
     ]
    },
    {
     "name": "stderr",
     "output_type": "stream",
     "text": [
      "                                                                    "
     ]
    },
    {
     "name": "stdout",
     "output_type": "stream",
     "text": [
      "\n",
      "***Epoch: 94***\n",
      "train_loss: 809.8442828077456\n",
      "val_loss: 843.1986404736837\n",
      "cur_lr: 4.520416471350405e-05\n",
      "\n"
     ]
    },
    {
     "name": "stderr",
     "output_type": "stream",
     "text": [
      "                                                                    "
     ]
    },
    {
     "name": "stdout",
     "output_type": "stream",
     "text": [
      "\n",
      "***Epoch: 95***\n",
      "train_loss: 807.9215056911472\n",
      "val_loss: 843.0360810279847\n",
      "cur_lr: 4.186421002311183e-05\n",
      "\n"
     ]
    },
    {
     "name": "stderr",
     "output_type": "stream",
     "text": [
      "                                                                    "
     ]
    },
    {
     "name": "stdout",
     "output_type": "stream",
     "text": [
      "\n",
      "***Epoch: 96***\n",
      "train_loss: 810.7454464704848\n",
      "val_loss: 843.0466056569417\n",
      "cur_lr: 3.858919889434372e-05\n",
      "\n"
     ]
    },
    {
     "name": "stderr",
     "output_type": "stream",
     "text": [
      "                                                                    "
     ]
    },
    {
     "name": "stdout",
     "output_type": "stream",
     "text": [
      "\n",
      "***Epoch: 97***\n",
      "train_loss: 809.759962798582\n",
      "val_loss: 843.3169338353474\n",
      "cur_lr: 3.538943572384821e-05\n",
      "\n"
     ]
    },
    {
     "name": "stderr",
     "output_type": "stream",
     "text": [
      "                                                                    "
     ]
    },
    {
     "name": "stdout",
     "output_type": "stream",
     "text": [
      "\n",
      "***Epoch: 98***\n",
      "train_loss: 807.4876649171509\n",
      "val_loss: 842.4031012852987\n",
      "cur_lr: 3.2274988150358044e-05\n",
      "\n"
     ]
    },
    {
     "name": "stderr",
     "output_type": "stream",
     "text": [
      "                                                                    "
     ]
    },
    {
     "name": "stdout",
     "output_type": "stream",
     "text": [
      "\n",
      "***Epoch: 99***\n",
      "train_loss: 809.501245087775\n",
      "val_loss: 842.7748207410177\n",
      "cur_lr: 2.925565537817405e-05\n",
      "\n"
     ]
    },
    {
     "name": "stderr",
     "output_type": "stream",
     "text": [
      "\r"
     ]
    }
   ],
   "source": [
    "model.to(\"cuda\")\n",
    "\n",
    "# criterion = nn.HuberLoss(delta=1.5)\n",
    "# criterion = VarianceSensitiveMSELoss(0.1)\n",
    "# criterion = nn.MSELoss()\n",
    "criterion = WeightedHuberLoss(delta=1)\n",
    "# criterion = MSEKLDLoss()\n",
    "\n",
    "from model.lr_scheduler import CosineAnnealingWarmUpRestarts\n",
    "optimizer = torch.optim.AdamW(model.parameters(), lr = 1e-8)\n",
    "scheduler = CosineAnnealingWarmUpRestarts(optimizer, T_0=10, T_mult=2, eta_max=1e-3,  T_up=3, gamma=0.5)\n",
    "\n",
    "for epoch in range(100):\n",
    "    train_loss = train(model, epoch, train_loader, optimizer, criterion)\n",
    "    val_loss = val(model, epoch, val_loader, criterion)\n",
    "    \n",
    "    print(f\"\\n***Epoch: {epoch}***\\ntrain_loss: {train_loss}\\nval_loss: {val_loss}\\ncur_lr: {scheduler.get_last_lr()}\\n\")\n",
    "\n",
    "    scheduler.step()"
   ]
  },
  {
   "cell_type": "code",
   "execution_count": 167,
   "metadata": {},
   "outputs": [],
   "source": [
    "from utils.colors_utils import visualize_rgb_colors\n",
    "\n",
    "def pipeline_emb(x):\n",
    "    decoder.eval()\n",
    "    y = decoder(x)\n",
    "    print(y.reshape(-1,4)[:,3])\n",
    "    y = y.reshape(-1,4)[:,:3]\n",
    "    y = np.array(y.detach().to(\"cpu\")*255)\n",
    "    visualize_rgb_colors(y)\n",
    "\n",
    "def pipeline(x):\n",
    "    # print(x)\n",
    "    # x = x.reshape(-1,4)[:,:3] \n",
    "    visualize_rgb_colors(x)"
   ]
  },
  {
   "cell_type": "code",
   "execution_count": 195,
   "metadata": {},
   "outputs": [
    {
     "name": "stdout",
     "output_type": "stream",
     "text": [
      "tensor([0.4104, 0.2613, 0.1979, 0.1314], grad_fn=<SelectBackward0>)\n"
     ]
    },
    {
     "data": {
      "image/png": "[encoded data removed]",
      "text/plain": [
       "<Figure size 640x480 with 1 Axes>"
      ]
     },
     "metadata": {},
     "output_type": "display_data"
    },
    {
     "data": {
      "image/png": "[encoded data removed]",
      "text/plain": [
       "<Figure size 640x480 with 1 Axes>"
      ]
     },
     "metadata": {},
     "output_type": "display_data"
    },
    {
     "data": {
      "image/png": "[encoded data removed]",
      "text/plain": [
       "<Figure size 640x480 with 1 Axes>"
      ]
     },
     "metadata": {},
     "output_type": "display_data"
    }
   ],
   "source": [
    "target_index = 30\n",
    "pipeline_emb(val_dataset[target_index][1])\n",
    "pipeline(color_normalization_restore(val_dataset[target_index][2].reshape(-1,3)))\n",
    "pipeline(color_normalization_restore(model(val_dataset[target_index][1].to(\"cuda\")).detach().to(\"cpu\").reshape(-1,3)))"
   ]
  },
  {
   "cell_type": "code",
   "execution_count": null,
   "metadata": {},
   "outputs": [],
   "source": [
    "val_dataset[target_index][0]"
   ]
  },
  {
   "cell_type": "code",
   "execution_count": 298,
   "metadata": {},
   "outputs": [],
   "source": [
    "train_data = train_1\n",
    "train_label = train_2\n",
    "val_data = val_1\n",
    "val_label = val_2"
   ]
  },
  {
   "cell_type": "code",
   "execution_count": 299,
   "metadata": {},
   "outputs": [],
   "source": [
    "import matplotlib.pyplot as plt\n",
    "from utils.colors_utils import *"
   ]
  },
  {
   "cell_type": "code",
   "execution_count": 300,
   "metadata": {},
   "outputs": [],
   "source": [
    "import numpy as np"
   ]
  },
  {
   "cell_type": "code",
   "execution_count": 309,
   "metadata": {},
   "outputs": [],
   "source": [
    "tt = np.array([cur[0] for cur in train_label if len(cur[0]) == 4])\n",
    "temp = tt.reshape(-1,3)"
   ]
  },
  {
   "cell_type": "code",
   "execution_count": 69,
   "metadata": {},
   "outputs": [],
   "source": [
    "def visualize_scatter(rgb_list):\n",
    "    rgb_data = np.array(rgb_list)\n",
    "\n",
    "    # Normalize the RGB values to [0, 1]\n",
    "    normalized_rgb_data = rgb_data / 255.0\n",
    "\n",
    "    # Create 3D scatter plot\n",
    "    fig = plt.figure()\n",
    "    ax = fig.add_subplot(111, projection='3d')\n",
    "\n",
    "    ax.scatter(rgb_data[:, 0], rgb_data[:, 1], rgb_data[:, 2], c=normalized_rgb_data)\n",
    "\n",
    "    ax.set_xlabel('R')\n",
    "    ax.set_ylabel('G')\n",
    "    ax.set_zlabel('B')\n",
    "\n",
    "    plt.show()"
   ]
  },
  {
   "cell_type": "code",
   "execution_count": 70,
   "metadata": {},
   "outputs": [
    {
     "data": {
      "image/png": "[encoded data removed]",
      "text/plain": [
       "<Figure size 640x480 with 1 Axes>"
      ]
     },
     "metadata": {},
     "output_type": "display_data"
    }
   ],
   "source": [
    "visualize_scatter(temp[np.random.choice(range(len(temp)), 1000)])"
   ]
  },
  {
   "cell_type": "code",
   "execution_count": 302,
   "metadata": {},
   "outputs": [],
   "source": [
    "targets = temp.reshape(-1,3)\n",
    "labels_dummy = [0]*len(targets)"
   ]
  },
  {
   "cell_type": "code",
   "execution_count": 351,
   "metadata": {},
   "outputs": [],
   "source": [
    "color_var = np.mean(np.std(tt, axis=1), axis=1)"
   ]
  },
  {
   "cell_type": "code",
   "execution_count": null,
   "metadata": {},
   "outputs": [],
   "source": []
  },
  {
   "cell_type": "code",
   "execution_count": 383,
   "metadata": {},
   "outputs": [
    {
     "data": {
      "text/plain": [
       "{0: 0.02829,\n",
       " 1: 0.0835,\n",
       " 2: 0.1088,\n",
       " 3: 0.1207,\n",
       " 4: 0.1488,\n",
       " 5: 0.1838,\n",
       " 6: 0.1653,\n",
       " 7: 0.0919,\n",
       " 8: 0.03046,\n",
       " 9: 0.011734,\n",
       " 10: 0.01372,\n",
       " 11: 0.0129}"
      ]
     },
     "execution_count": 383,
     "metadata": {},
     "output_type": "execute_result"
    }
   ],
   "source": [
    "from collections import Counter\n",
    "counter = Counter(np.round(color_var/10).astype(np.uint8))\n",
    "aaa = (np.array([cur[1] for cur in sorted(counter.items(), key=lambda x:x[0])]) / len(color_var)).astype(np.float16)\n",
    "{idx:cur for idx, cur in enumerate(aaa)}"
   ]
  },
  {
   "cell_type": "code",
   "execution_count": 368,
   "metadata": {},
   "outputs": [
    {
     "data": {
      "text/plain": [
       "896"
      ]
     },
     "execution_count": 368,
     "metadata": {},
     "output_type": "execute_result"
    }
   ],
   "source": [
    "np.argmax(color_var)"
   ]
  },
  {
   "cell_type": "code",
   "execution_count": 342,
   "metadata": {},
   "outputs": [
    {
     "data": {
      "text/plain": [
       "763"
      ]
     },
     "execution_count": 342,
     "metadata": {},
     "output_type": "execute_result"
    }
   ],
   "source": [
    "np.argmin(color_var)"
   ]
  },
  {
   "cell_type": "code",
   "execution_count": 346,
   "metadata": {},
   "outputs": [
    {
     "data": {
      "text/plain": [
       "19105"
      ]
     },
     "execution_count": 346,
     "metadata": {},
     "output_type": "execute_result"
    }
   ],
   "source": [
    "np.argsort(color_var)[-1]"
   ]
  },
  {
   "cell_type": "code",
   "execution_count": 350,
   "metadata": {},
   "outputs": [
    {
     "name": "stdout",
     "output_type": "stream",
     "text": [
      "[[147 110  77]\n",
      " [180 165 145]\n",
      " [ 63  54  55]\n",
      " [103 105 106]]\n"
     ]
    },
    {
     "data": {
      "image/png": "[encoded data removed]",
      "text/plain": [
       "<Figure size 640x480 with 1 Axes>"
      ]
     },
     "metadata": {},
     "output_type": "display_data"
    }
   ],
   "source": [
    "print(tt[0])\n",
    "visualize_rgb_colors(tt[0].reshape(4,3))"
   ]
  },
  {
   "cell_type": "code",
   "execution_count": 333,
   "metadata": {},
   "outputs": [
    {
     "data": {
      "text/plain": [
       "(array([ 5184.,  7887.,  9015., 11040., 14029., 12510.,  6149.,  1785.,\n",
       "          826.,  1551.]),\n",
       " array([  0.        ,  10.99852263,  21.99704526,  32.99556788,\n",
       "         43.99409051,  54.99261314,  65.99113577,  76.9896584 ,\n",
       "         87.98818102,  98.98670365, 109.98522628]),\n",
       " <BarContainer object of 10 artists>)"
      ]
     },
     "execution_count": 333,
     "metadata": {},
     "output_type": "execute_result"
    },
    {
     "data": {
      "image/png": "[encoded data removed]",
      "text/plain": [
       "<Figure size 640x480 with 1 Axes>"
      ]
     },
     "metadata": {},
     "output_type": "display_data"
    }
   ],
   "source": [
    "plt.hist(color_var)"
   ]
  },
  {
   "cell_type": "code",
   "execution_count": 87,
   "metadata": {},
   "outputs": [
    {
     "data": {
      "image/png": "[encoded data removed]",
      "text/plain": [
       "<Figure size 640x480 with 1 Axes>"
      ]
     },
     "metadata": {},
     "output_type": "display_data"
    }
   ],
   "source": [
    "plot_3D_PCA(targets, labels_dummy)"
   ]
  },
  {
   "cell_type": "code",
   "execution_count": null,
   "metadata": {},
   "outputs": [],
   "source": []
  }
 ],
 "metadata": {
  "kernelspec": {
   "display_name": "kjg_ver39",
   "language": "python",
   "name": "python3"
  },
  "language_info": {
   "codemirror_mode": {
    "name": "ipython",
    "version": 3
   },
   "file_extension": ".py",
   "mimetype": "text/x-python",
   "name": "python",
   "nbconvert_exporter": "python",
   "pygments_lexer": "ipython3",
   "version": "3.9.16"
  },
  "orig_nbformat": 4
 },
 "nbformat": 4,
 "nbformat_minor": 2
}
